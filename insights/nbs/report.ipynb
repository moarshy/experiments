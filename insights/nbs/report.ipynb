{
 "cells": [
  {
   "cell_type": "code",
   "execution_count": 1,
   "metadata": {},
   "outputs": [],
   "source": [
    "from dotenv import load_dotenv\n",
    "load_dotenv()\n",
    "\n",
    "import logging\n",
    "\n",
    "logging.basicConfig(level=logging.INFO)\n",
    "logger = logging.getLogger(__name__)"
   ]
  },
  {
   "cell_type": "code",
   "execution_count": 4,
   "metadata": {},
   "outputs": [],
   "source": [
    "import json\n",
    "from insights.agents.text2sql_agent import Text2SQLExecuteAgent\n",
    "from insights.agents.insight_agent import InsightAgent, ProcessedQuestionResult, StructuredInsight\n",
    "from insights.agents.db_summary_agent import DatabaseSummaryAgent, ColumnSummary, TableSummary, DatabaseSummary\n",
    "from insights.agents.insights_consolidation_agent import InsightConsolidationAgent\n",
    "from insights.agents.report_generation_agent import ReportGeneratingAgent\n",
    "\n",
    "from sklearn.metrics.pairwise import cosine_similarity\n"
   ]
  },
  {
   "cell_type": "code",
   "execution_count": 3,
   "metadata": {},
   "outputs": [],
   "source": [
    "db_summary_path = '/Users/arshath/play/experiments/insights/database_summary.json'\n",
    "questions_path = '/Users/arshath/play/experiments/insights/generated_questions.json'\n",
    "execution_results_path = '/Users/arshath/play/experiments/insights/nbs/sql_execution_results_gpt4.1.json'\n",
    "insights_path = '/Users/arshath/play/experiments/insights/nbs/insights.json'\n",
    "consolidated_insights_path = '/Users/arshath/play/experiments/insights/nbs/consolidated_insights.json'\n",
    "\n",
    "with open(db_summary_path, 'r', encoding='utf-8') as f:\n",
    "    db_summary_data = json.load(f)\n",
    "    db_summary = DatabaseSummary(**db_summary_data['technical_summary'])\n",
    "    db_summary.natural_language_summary = db_summary_data['natural_language_summary']\n",
    "\n",
    "with open(questions_path, 'r', encoding='utf-8') as f:\n",
    "    questions_input = json.load(f)\n",
    "    analysis_questions = questions_input.get(\"questions\", [])\n",
    "\n",
    "with open(execution_results_path, 'r', encoding='utf-8') as f:\n",
    "    execution_results = json.load(f)\n",
    "    execution_results = [ProcessedQuestionResult(**result) for result in execution_results]\n",
    "\n",
    "with open(insights_path, 'r', encoding='utf-8') as f:\n",
    "    insights = json.load(f)\n",
    "    insights = [StructuredInsight(**insight) for insight in insights]\n",
    "\n",
    "with open(consolidated_insights_path, 'r', encoding='utf-8') as f:\n",
    "    consolidated_insights = json.load(f)\n",
    "    consolidated_insights = [StructuredInsight(**insight) for insight in consolidated_insights]"
   ]
  },
  {
   "cell_type": "code",
   "execution_count": 5,
   "metadata": {},
   "outputs": [
    {
     "name": "stderr",
     "output_type": "stream",
     "text": [
      "INFO:insights.utils:ReportGeneratingAgent initialized with LLM provider: openai\n"
     ]
    }
   ],
   "source": [
    "report_agent = ReportGeneratingAgent()"
   ]
  },
  {
   "cell_type": "code",
   "execution_count": 6,
   "metadata": {},
   "outputs": [
    {
     "name": "stderr",
     "output_type": "stream",
     "text": [
      "INFO:insights.utils:Generating LLM-based markdown report for executive audience from 30 insights (using top 15)...\n",
      "INFO:httpx:HTTP Request: POST https://api.openai.com/v1/chat/completions \"HTTP/1.1 200 OK\"\n",
      "INFO:insights.utils:Successfully generated report using LLM.\n"
     ]
    }
   ],
   "source": [
    "report = report_agent.generate_report(\n",
    "    consolidated_insights=consolidated_insights,\n",
    "    database_summary=db_summary\n",
    ")"
   ]
  },
  {
   "cell_type": "code",
   "execution_count": null,
   "metadata": {},
   "outputs": [],
   "source": []
  }
 ],
 "metadata": {
  "kernelspec": {
   "display_name": ".venv",
   "language": "python",
   "name": "python3"
  },
  "language_info": {
   "codemirror_mode": {
    "name": "ipython",
    "version": 3
   },
   "file_extension": ".py",
   "mimetype": "text/x-python",
   "name": "python",
   "nbconvert_exporter": "python",
   "pygments_lexer": "ipython3",
   "version": "3.12.9"
  }
 },
 "nbformat": 4,
 "nbformat_minor": 2
}
