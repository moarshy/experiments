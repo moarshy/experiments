{
 "cells": [
  {
   "cell_type": "code",
   "execution_count": 2,
   "metadata": {},
   "outputs": [],
   "source": [
    "# --- OpenAI Imports ---\n",
    "import openai\n",
    "from openai import RateLimitError as OpenAIRateLimitError\n",
    "from openai import APIError as OpenAIAPIError\n",
    "from openai import OpenAIError\n",
    "\n",
    "# --- Google Gemini Imports ---\n",
    "from google import genai\n",
    "from google.genai import types"
   ]
  },
  {
   "cell_type": "code",
   "execution_count": 5,
   "metadata": {},
   "outputs": [],
   "source": [
    "import os\n",
    "from dotenv import load_dotenv\n",
    "load_dotenv()\n",
    "\n",
    "import logging\n",
    "logging.basicConfig(level=logging.INFO)\n",
    "logger = logging.getLogger(__name__)\n"
   ]
  },
  {
   "cell_type": "code",
   "execution_count": 5,
   "metadata": {},
   "outputs": [],
   "source": [
    "# models/gemini-2.5-flash-preview-04-17\n",
    "# models_list"
   ]
  },
  {
   "cell_type": "code",
   "execution_count": 32,
   "metadata": {},
   "outputs": [],
   "source": [
    "gemini_client = genai.Client(api_key=os.getenv(\"GOOGLE_API_KEY\"))\n",
    "\n",
    "prompt = \"\"\"\n",
    "John Doe, 30, john.doe@example.com\n",
    "\"\"\"\n",
    "\n",
    "    \n",
    "generation_config = types.GenerateContentConfig(\n",
    "    temperature=0.1,\n",
    "    max_output_tokens=5000,\n",
    "    system_instruction=\"Extract the user, age and email in json format from the following text:\",\n",
    "    thinking_config=types.ThinkingConfig(thinking_budget=5000)\n",
    "\n",
    ")\n",
    "\n",
    "response = gemini_client.models.generate_content(\n",
    "    model='models/gemini-2.5-flash-preview-04-17',\n",
    "    contents=[prompt],\n",
    "    config=generation_config\n",
    "    )\n",
    "        "
   ]
  },
  {
   "cell_type": "code",
   "execution_count": 33,
   "metadata": {},
   "outputs": [
    {
     "data": {
      "text/plain": [
       "'```json\\n{\\n  \"user\": \"John Doe\",\\n  \"age\": 30,\\n  \"email\": \"john.doe@example.com\"\\n}\\n```'"
      ]
     },
     "execution_count": 33,
     "metadata": {},
     "output_type": "execute_result"
    }
   ],
   "source": [
    "response.candidates[0].content.parts[0].text"
   ]
  },
  {
   "cell_type": "code",
   "execution_count": 17,
   "metadata": {},
   "outputs": [],
   "source": [
    "from openai import OpenAI\n",
    "import time\n",
    "from typing import List, Optional\n",
    "import json"
   ]
  },
  {
   "cell_type": "code",
   "execution_count": 18,
   "metadata": {},
   "outputs": [],
   "source": [
    "def openai_call(\n",
    "    user_prompt: str,\n",
    "    system_prompt: str,\n",
    "    model: str = 'gpt-4.1',\n",
    "    temperature: float = 0.4,\n",
    "    max_tokens: int = 10000,\n",
    "    max_retries: int = 3,\n",
    "    expected_keys: Optional[List[str]] = None,\n",
    "    ):\n",
    "\n",
    "    client = OpenAI()\n",
    "\n",
    "    for i in range(max_retries):\n",
    "        try:\n",
    "            response = client.chat.completions.create(\n",
    "                model=model,\n",
    "                messages=[\n",
    "                    {\"role\": \"system\", \"content\": system_prompt},\n",
    "                    {\"role\": \"user\", \"content\": user_prompt}\n",
    "                ],\n",
    "                response_format={\"type\": \"json_object\"},\n",
    "                temperature=temperature,\n",
    "                max_tokens=max_tokens\n",
    "            )\n",
    "            if expected_keys:\n",
    "                response_json = json.loads(response.choices[0].message.content)\n",
    "                if all(key in response_json for key in expected_keys):\n",
    "                    return response_json\n",
    "                else:\n",
    "                    raise ValueError(f\"Expected keys {expected_keys} not found in response\")\n",
    "        except Exception as e:\n",
    "            if i < max_retries - 1:\n",
    "                logger.info(f\"Retrying... ({i + 1}/{max_retries})\")\n",
    "                time.sleep(2)\n",
    "                continue\n",
    "            else:\n",
    "                logger.error(f\"Failed to call OpenAI after {max_retries} retries\")\n",
    "                raise e"
   ]
  },
  {
   "cell_type": "code",
   "execution_count": 21,
   "metadata": {},
   "outputs": [
    {
     "name": "stderr",
     "output_type": "stream",
     "text": [
      "INFO:httpx:HTTP Request: POST https://api.openai.com/v1/chat/completions \"HTTP/1.1 200 OK\"\n"
     ]
    }
   ],
   "source": [
    "system_prompt = \"\"\"\n",
    "You are a helpful assistant that can answer questions and help with tasks.\n",
    "You extract information from text and return it in a structured format.\n",
    "Example of expected output format:\n",
    "```json\n",
    "{\n",
    "    \"name\": \"John Doe\",\n",
    "    \"age\": 30,\n",
    "    \"email\": \"john.doe@example.com\"\n",
    "}\n",
    "```\n",
    "\n",
    "Make sure only to return the keys in the example output format.\n",
    "\"\"\"\n",
    "user_prompt = \"\"\"\n",
    "John Johnson was a 30 year old man who lived in the city of New York. He was a software engineer and he loved to code. His email was john.johnson@example.com.\n",
    "\"\"\"\n",
    "\n",
    "response = openai_call(\n",
    "    user_prompt=user_prompt,\n",
    "    system_prompt=system_prompt,\n",
    "    expected_keys=[\"name\", \"age\", \"email\"]\n",
    ")"
   ]
  },
  {
   "cell_type": "code",
   "execution_count": 22,
   "metadata": {},
   "outputs": [
    {
     "data": {
      "text/plain": [
       "{'name': 'John Johnson', 'age': 30, 'email': 'john.johnson@example.com'}"
      ]
     },
     "execution_count": 22,
     "metadata": {},
     "output_type": "execute_result"
    }
   ],
   "source": [
    "response"
   ]
  },
  {
   "cell_type": "code",
   "execution_count": 31,
   "metadata": {},
   "outputs": [],
   "source": [
    "import re\n",
    "\n",
    "def parse_json(text):\n",
    "    \"\"\"\n",
    "    Robustly extracts JSON from text that might contain non-JSON content.\n",
    "    \n",
    "    Args:\n",
    "        text (str): Text that might contain JSON data\n",
    "        \n",
    "    Returns:\n",
    "        dict or list: Parsed JSON data\n",
    "        None: If no valid JSON found\n",
    "    \"\"\"\n",
    "    # First, try to extract JSON-like patterns from text\n",
    "    # Look for content between curly braces (for objects) or square brackets (for arrays)\n",
    "    json_pattern = re.compile(r'({[\\s\\S]*?}|\\[[\\s\\S]*?\\])')\n",
    "    \n",
    "    # Try various parsing approaches\n",
    "    \n",
    "    # Approach 1: Try parsing the entire text directly\n",
    "    try:\n",
    "        return json.loads(text)\n",
    "    except:\n",
    "        pass\n",
    "    \n",
    "    # Approach 2: Look for markdown code blocks with json\n",
    "    code_block_pattern = re.compile(r'```(?:json)?\\s*([\\s\\S]*?)\\s*```')\n",
    "    code_matches = code_block_pattern.findall(text)\n",
    "    \n",
    "    for code_match in code_matches:\n",
    "        try:\n",
    "            return json.loads(code_match)\n",
    "        except:\n",
    "            pass\n",
    "    \n",
    "    # Approach 3: Extract JSON-like patterns and try to parse them\n",
    "    json_matches = json_pattern.findall(text)\n",
    "    \n",
    "    for json_match in json_matches:\n",
    "        try:\n",
    "            return json.loads(json_match)\n",
    "        except:\n",
    "            pass\n",
    "    \n",
    "    # Approach 4: Clean up the text and try again\n",
    "    # Remove common formatting issues\n",
    "    for pattern in [r'`', r'\"', r'\"', r''', r''']: \n",
    "        text = text.replace(pattern, '\"')\n",
    "    \n",
    "    # Replace single quotes with double quotes for JSON compatibility\n",
    "    # This is risky but works in many cases\n",
    "    text_cleaned = text.replace(\"'\", '\"')\n",
    "    \n",
    "    try:\n",
    "        return json.loads(text_cleaned)\n",
    "    except:\n",
    "        pass\n",
    "        \n",
    "    # Approach 5: Try to find a substring that looks like JSON\n",
    "    for i in range(len(text)):\n",
    "        if text[i] in ['{', '[']:\n",
    "            # Try to parse everything from this point\n",
    "            try:\n",
    "                return json.loads(text[i:])\n",
    "            except:\n",
    "                pass\n",
    "    \n",
    "    # If all attempts fail\n",
    "    return None"
   ]
  },
  {
   "cell_type": "code",
   "execution_count": 32,
   "metadata": {},
   "outputs": [],
   "source": [
    "def gemini_call(\n",
    "    user_prompt: str,\n",
    "    system_prompt: str,\n",
    "    model: str = 'models/gemini-2.5-flash-preview-04-17',\n",
    "    temperature: float = 0.2,\n",
    "    max_tokens: int = 10000,\n",
    "    thinking_budget: int = 10000,\n",
    "    max_retries: int = 3,\n",
    "    expected_keys: Optional[List[str]] = None,\n",
    "    ):\n",
    "\n",
    "    client = genai.Client()\n",
    "\n",
    "    for i in range(max_retries):\n",
    "        try:\n",
    "            config = types.GenerateContentConfig(\n",
    "                temperature=temperature,\n",
    "                max_output_tokens=max_tokens,\n",
    "                system_instruction=system_prompt,\n",
    "                thinking_config=types.ThinkingConfig(thinking_budget=thinking_budget)\n",
    "            )\n",
    "            response = client.models.generate_content(\n",
    "                model=model,\n",
    "                contents=[user_prompt],\n",
    "                config=config\n",
    "            )\n",
    "            response_text = response.candidates[0].content.parts[0].text\n",
    "            try:\n",
    "                response_json = parse_json(response_text)\n",
    "                print(response_json)\n",
    "            except Exception as e:\n",
    "                print(\"Failed to parse JSON\")\n",
    "                raise ValueError(f\"Failed to parse JSON. {e}\")\n",
    "            if expected_keys:\n",
    "                if all(key in response_json for key in expected_keys):\n",
    "                    return response_json\n",
    "                else:\n",
    "                    raise ValueError(f\"Expected keys {expected_keys} not found in response\")\n",
    "            return response_json\n",
    "            \n",
    "        except Exception as e:\n",
    "            if i < max_retries - 1:\n",
    "                logger.info(f\"Retrying... ({i + 1}/{max_retries})\")\n",
    "                time.sleep(2)\n",
    "                continue\n",
    "            else:\n",
    "                logger.error(f\"Failed to call OpenAI after {max_retries} retries\")\n",
    "                raise e"
   ]
  },
  {
   "cell_type": "code",
   "execution_count": 33,
   "metadata": {},
   "outputs": [
    {
     "name": "stderr",
     "output_type": "stream",
     "text": [
      "INFO:google_genai.models:AFC is enabled with max remote calls: 10.\n",
      "INFO:httpx:HTTP Request: POST https://generativelanguage.googleapis.com/v1beta/models/gemini-2.5-flash-preview-04-17:generateContent \"HTTP/1.1 200 OK\"\n",
      "INFO:google_genai.models:AFC remote call 1 is done.\n"
     ]
    },
    {
     "name": "stdout",
     "output_type": "stream",
     "text": [
      "{'name': 'John Johnson', 'age': 30, 'email': 'john.johnson@example.com'}\n"
     ]
    }
   ],
   "source": [
    "system_prompt = \"\"\"\n",
    "You are a helpful assistant that can answer questions and help with tasks.\n",
    "You extract information from text and return it in a structured format.\n",
    "Example of expected output format:\n",
    "```json\n",
    "{\n",
    "    \"name\": \"John Doe\",\n",
    "    \"age\": 30,\n",
    "    \"email\": \"john.doe@example.com\"\n",
    "}\n",
    "```\n",
    "\n",
    "Make sure only to return the keys in the example output format.\n",
    "\"\"\"\n",
    "user_prompt = \"\"\"\n",
    "John Johnson was a 30 year old man who lived in the city of New York. He was a software engineer and he loved to code. His email was john.johnson@example.com.\n",
    "\"\"\"\n",
    "\n",
    "response = gemini_call(\n",
    "    user_prompt=user_prompt,\n",
    "    system_prompt=system_prompt,\n",
    "    expected_keys=[\"name\", \"age\", \"email\"]\n",
    ")"
   ]
  }
 ],
 "metadata": {
  "kernelspec": {
   "display_name": "base",
   "language": "python",
   "name": "python3"
  },
  "language_info": {
   "codemirror_mode": {
    "name": "ipython",
    "version": 3
   },
   "file_extension": ".py",
   "mimetype": "text/x-python",
   "name": "python",
   "nbconvert_exporter": "python",
   "pygments_lexer": "ipython3",
   "version": "3.11.11"
  }
 },
 "nbformat": 4,
 "nbformat_minor": 2
}
