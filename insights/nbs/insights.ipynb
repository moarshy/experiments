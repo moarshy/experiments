{
 "cells": [
  {
   "cell_type": "code",
   "execution_count": 10,
   "metadata": {},
   "outputs": [],
   "source": [
    "from dotenv import load_dotenv\n",
    "load_dotenv()\n",
    "\n",
    "import logging\n",
    "\n",
    "logging.basicConfig(level=logging.INFO)\n",
    "logger = logging.getLogger(__name__)"
   ]
  },
  {
   "cell_type": "code",
   "execution_count": 11,
   "metadata": {},
   "outputs": [],
   "source": [
    "import json\n",
    "from insights.agents.text2sql_agent import Text2SQLExecuteAgent\n",
    "from insights.agents.insight_agent import InsightAgent, ProcessedQuestionResult\n",
    "from insights.agents.db_summary_agent import DatabaseSummaryAgent, ColumnSummary, TableSummary, DatabaseSummary"
   ]
  },
  {
   "cell_type": "code",
   "execution_count": 12,
   "metadata": {},
   "outputs": [],
   "source": [
    "db_summary_path = '/Users/arshath/play/experiments/insights/database_summary.json'\n",
    "questions_path = '/Users/arshath/play/experiments/insights/generated_questions.json'\n",
    "execution_results_path = '/Users/arshath/play/experiments/insights/nbs/sql_execution_results_gpt4.1.json'\n",
    "\n",
    "with open(db_summary_path, 'r', encoding='utf-8') as f:\n",
    "    db_summary_data = json.load(f)\n",
    "    db_summary = DatabaseSummary(**db_summary_data['technical_summary'])\n",
    "    db_summary.natural_language_summary = db_summary_data['natural_language_summary']\n",
    "\n",
    "with open(questions_path, 'r', encoding='utf-8') as f:\n",
    "    questions_input = json.load(f)\n",
    "    analysis_questions = questions_input.get(\"questions\", [])\n",
    "\n",
    "with open(execution_results_path, 'r', encoding='utf-8') as f:\n",
    "    execution_results = json.load(f)\n",
    "    execution_results = [ProcessedQuestionResult(**result) for result in execution_results]"
   ]
  },
  {
   "cell_type": "code",
   "execution_count": 13,
   "metadata": {},
   "outputs": [
    {
     "name": "stderr",
     "output_type": "stream",
     "text": [
      "INFO:insights.utils:InsightAgent initialized.\n",
      "INFO:httpx:HTTP Request: POST https://api.openai.com/v1/chat/completions \"HTTP/1.1 200 OK\"\n",
      "INFO:httpx:HTTP Request: POST https://api.openai.com/v1/chat/completions \"HTTP/1.1 200 OK\"\n",
      "INFO:httpx:HTTP Request: POST https://api.openai.com/v1/chat/completions \"HTTP/1.1 200 OK\"\n",
      "INFO:httpx:HTTP Request: POST https://api.openai.com/v1/chat/completions \"HTTP/1.1 200 OK\"\n",
      "WARNING:insights.utils:Generating EXECUTION_INFO insight for failed question ID: Q-c94fa6b2-f2a3-4181-b1e0-e0c1272cbb12\n",
      "WARNING:insights.utils:Generating EXECUTION_INFO insight for failed question ID: Q-ed62ac66-0d60-4ae1-8fbc-4eee8f1aeada\n",
      "INFO:httpx:HTTP Request: POST https://api.openai.com/v1/chat/completions \"HTTP/1.1 200 OK\"\n",
      "INFO:httpx:HTTP Request: POST https://api.openai.com/v1/chat/completions \"HTTP/1.1 200 OK\"\n",
      "INFO:insights.utils:Generating OBSERVATION insight for empty result set for question ID: Q-d18b20bc-3420-46a8-bd45-0963a77b2a5f\n",
      "INFO:httpx:HTTP Request: POST https://api.openai.com/v1/chat/completions \"HTTP/1.1 200 OK\"\n",
      "WARNING:insights.utils:Generating EXECUTION_INFO insight for failed question ID: Q-4f7154bd-39cb-4409-9e6f-9130c298a0c8\n",
      "WARNING:insights.utils:Generating EXECUTION_INFO insight for failed question ID: Q-59a89a2d-9ce5-4047-8d88-f405498f8986\n",
      "INFO:httpx:HTTP Request: POST https://api.openai.com/v1/chat/completions \"HTTP/1.1 200 OK\"\n",
      "INFO:httpx:HTTP Request: POST https://api.openai.com/v1/chat/completions \"HTTP/1.1 200 OK\"\n",
      "INFO:httpx:HTTP Request: POST https://api.openai.com/v1/chat/completions \"HTTP/1.1 200 OK\"\n",
      "INFO:httpx:HTTP Request: POST https://api.openai.com/v1/chat/completions \"HTTP/1.1 200 OK\"\n",
      "INFO:httpx:HTTP Request: POST https://api.openai.com/v1/chat/completions \"HTTP/1.1 200 OK\"\n",
      "INFO:httpx:HTTP Request: POST https://api.openai.com/v1/chat/completions \"HTTP/1.1 200 OK\"\n",
      "INFO:httpx:HTTP Request: POST https://api.openai.com/v1/chat/completions \"HTTP/1.1 200 OK\"\n",
      "INFO:httpx:HTTP Request: POST https://api.openai.com/v1/chat/completions \"HTTP/1.1 200 OK\"\n",
      "INFO:httpx:HTTP Request: POST https://api.openai.com/v1/chat/completions \"HTTP/1.1 200 OK\"\n",
      "INFO:httpx:HTTP Request: POST https://api.openai.com/v1/chat/completions \"HTTP/1.1 200 OK\"\n",
      "INFO:httpx:HTTP Request: POST https://api.openai.com/v1/chat/completions \"HTTP/1.1 200 OK\"\n",
      "INFO:httpx:HTTP Request: POST https://api.openai.com/v1/chat/completions \"HTTP/1.1 200 OK\"\n"
     ]
    }
   ],
   "source": [
    "insight_agent = InsightAgent()\n",
    "insights = insight_agent.generate_insights(\n",
    "    processed_questions=execution_results,\n",
    "    db_summary=db_summary,\n",
    "    original_user_query=None\n",
    ")"
   ]
  },
  {
   "cell_type": "code",
   "execution_count": 15,
   "metadata": {},
   "outputs": [],
   "source": [
    "insights = [insight.model_dump() for insight in insights]\n",
    "\n",
    "with open('insights.json', 'w', encoding='utf-8') as f:\n",
    "    json.dump(insights, f, indent=4, ensure_ascii=False)"
   ]
  },
  {
   "cell_type": "code",
   "execution_count": null,
   "metadata": {},
   "outputs": [],
   "source": []
  }
 ],
 "metadata": {
  "kernelspec": {
   "display_name": ".venv",
   "language": "python",
   "name": "python3"
  },
  "language_info": {
   "codemirror_mode": {
    "name": "ipython",
    "version": 3
   },
   "file_extension": ".py",
   "mimetype": "text/x-python",
   "name": "python",
   "nbconvert_exporter": "python",
   "pygments_lexer": "ipython3",
   "version": "3.12.9"
  }
 },
 "nbformat": 4,
 "nbformat_minor": 2
}
