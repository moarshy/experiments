{
 "cells": [
  {
   "cell_type": "code",
   "execution_count": 1,
   "metadata": {},
   "outputs": [],
   "source": [
    "from dotenv import load_dotenv\n",
    "load_dotenv()\n",
    "\n",
    "import logging\n",
    "\n",
    "logging.basicConfig(level=logging.INFO)\n",
    "logger = logging.getLogger(__name__)"
   ]
  },
  {
   "cell_type": "code",
   "execution_count": 2,
   "metadata": {},
   "outputs": [],
   "source": [
    "import json\n",
    "from insights.agents.text2sql_agent import Text2SQLExecuteAgent\n",
    "from insights.agents.insight_agent import InsightAgent, ProcessedQuestionResult\n",
    "from insights.agents.db_summary_agent import DatabaseSummaryAgent, ColumnSummary, TableSummary, DatabaseSummary"
   ]
  },
  {
   "cell_type": "code",
   "execution_count": 3,
   "metadata": {},
   "outputs": [],
   "source": [
    "db_summary_path = '/Users/arshath/play/experiments/insights/database_summary.json'\n",
    "questions_path = '/Users/arshath/play/experiments/insights/generated_questions.json'\n",
    "execution_results_path = '/Users/arshath/play/experiments/insights/nbs/sql_execution_results_gpt4.1.json'\n",
    "\n",
    "with open(db_summary_path, 'r', encoding='utf-8') as f:\n",
    "    db_summary_data = json.load(f)\n",
    "    db_summary = DatabaseSummary(**db_summary_data['technical_summary'])\n",
    "    db_summary.natural_language_summary = db_summary_data['natural_language_summary']\n",
    "\n",
    "with open(questions_path, 'r', encoding='utf-8') as f:\n",
    "    questions_input = json.load(f)\n",
    "    analysis_questions = questions_input.get(\"questions\", [])\n",
    "\n",
    "with open(execution_results_path, 'r', encoding='utf-8') as f:\n",
    "    execution_results = json.load(f)"
   ]
  },
  {
   "cell_type": "code",
   "execution_count": 4,
   "metadata": {},
   "outputs": [
    {
     "name": "stderr",
     "output_type": "stream",
     "text": [
      "INFO:insights.utils:InsightAgent initialized.\n"
     ]
    }
   ],
   "source": [
    "insight_agent = InsightAgent()"
   ]
  },
  {
   "cell_type": "code",
   "execution_count": 5,
   "metadata": {},
   "outputs": [
    {
     "name": "stderr",
     "output_type": "stream",
     "text": [
      "INFO:insights.utils:Calling LLM for insight generation for question ID: Q-0a77944e-9ab9-4c00-9138-8333c8c1447b\n",
      "INFO:google_genai.models:AFC is enabled with max remote calls: 10.\n",
      "INFO:httpx:HTTP Request: POST https://generativelanguage.googleapis.com/v1beta/models/gemini-2.5-flash-preview-04-17:generateContent \"HTTP/1.1 200 OK\"\n",
      "INFO:google_genai.models:AFC remote call 1 is done.\n"
     ]
    },
    {
     "ename": "ValidationError",
     "evalue": "1 validation error for StructuredInsight\ntier\n  Input should be 'Observation', 'Comparison', 'Trend', 'Anomaly', 'Contribution', 'Relationship', 'Data Quality' or 'Execution Info' [type=enum, input_value='Tier 1: Key Finding', input_type=str]\n    For further information visit https://errors.pydantic.dev/2.11/v/enum",
     "output_type": "error",
     "traceback": [
      "\u001b[31m---------------------------------------------------------------------------\u001b[39m",
      "\u001b[31mValidationError\u001b[39m                           Traceback (most recent call last)",
      "\u001b[36mCell\u001b[39m\u001b[36m \u001b[39m\u001b[32mIn[5]\u001b[39m\u001b[32m, line 3\u001b[39m\n\u001b[32m      1\u001b[39m \u001b[38;5;28;01mfor\u001b[39;00m result \u001b[38;5;129;01min\u001b[39;00m execution_results:\n\u001b[32m      2\u001b[39m     res = ProcessedQuestionResult(**result)\n\u001b[32m----> \u001b[39m\u001b[32m3\u001b[39m     insight = \u001b[43minsight_agent\u001b[49m\u001b[43m.\u001b[49m\u001b[43mgenerate_insights\u001b[49m\u001b[43m(\u001b[49m\u001b[43mres\u001b[49m\u001b[43m,\u001b[49m\u001b[43m \u001b[49m\u001b[43mdb_summary\u001b[49m\u001b[43m)\u001b[49m\n\u001b[32m      4\u001b[39m     \u001b[38;5;28;01mbreak\u001b[39;00m\n",
      "\u001b[36mFile \u001b[39m\u001b[32m~/play/experiments/insights/insights/agents/insight_agent.py:207\u001b[39m, in \u001b[36mInsightAgent.generate_insights\u001b[39m\u001b[34m(self, processed_question, db_summary, original_user_query)\u001b[39m\n\u001b[32m    204\u001b[39m logger.debug(\u001b[33mf\u001b[39m\u001b[33m\"\u001b[39m\u001b[33mParsing LLM response for question ID: \u001b[39m\u001b[38;5;132;01m{\u001b[39;00mqid\u001b[38;5;132;01m}\u001b[39;00m\u001b[33m\"\u001b[39m)\n\u001b[32m    205\u001b[39m \u001b[38;5;28;01mtry\u001b[39;00m:\n\u001b[32m    206\u001b[39m     \u001b[38;5;66;03m# Validate and structure using Pydantic, adding provenance\u001b[39;00m\n\u001b[32m--> \u001b[39m\u001b[32m207\u001b[39m     insight = \u001b[43mStructuredInsight\u001b[49m\u001b[43m(\u001b[49m\n\u001b[32m    208\u001b[39m \u001b[43m        \u001b[49m\u001b[43m*\u001b[49m\u001b[43m*\u001b[49m\u001b[43mllm_response_str\u001b[49m\u001b[43m,\u001b[49m\n\u001b[32m    209\u001b[39m \u001b[43m        \u001b[49m\u001b[43mquestion_id\u001b[49m\u001b[43m=\u001b[49m\u001b[43mqid\u001b[49m\u001b[43m,\u001b[49m\n\u001b[32m    210\u001b[39m \u001b[43m        \u001b[49m\u001b[43mquestion_text\u001b[49m\u001b[43m=\u001b[49m\u001b[43mprocessed_question\u001b[49m\u001b[43m.\u001b[49m\u001b[43mquestion_text\u001b[49m\u001b[43m,\u001b[49m\n\u001b[32m    211\u001b[39m \u001b[43m        \u001b[49m\u001b[43msource_sql\u001b[49m\u001b[43m=\u001b[49m\u001b[43mprocessed_question\u001b[49m\u001b[43m.\u001b[49m\u001b[43mgenerated_sql\u001b[49m\u001b[43m,\u001b[49m\n\u001b[32m    212\u001b[39m \u001b[43m        \u001b[49m\u001b[43mdata_row_count\u001b[49m\u001b[43m=\u001b[49m\u001b[43mprocessed_question\u001b[49m\u001b[43m.\u001b[49m\u001b[43mexecution_row_count\u001b[49m\u001b[43m,\u001b[49m\n\u001b[32m    213\u001b[39m \u001b[43m        \u001b[49m\u001b[43mdata_column_names\u001b[49m\u001b[43m=\u001b[49m\u001b[43mprocessed_question\u001b[49m\u001b[43m.\u001b[49m\u001b[43mexecution_column_names\u001b[49m\u001b[43m,\u001b[49m\n\u001b[32m    214\u001b[39m \u001b[43m        \u001b[49m\u001b[43mexecution_time\u001b[49m\u001b[43m=\u001b[49m\u001b[43mprocessed_question\u001b[49m\u001b[43m.\u001b[49m\u001b[43mexecution_time\u001b[49m\u001b[43m,\u001b[49m\n\u001b[32m    215\u001b[39m \u001b[43m        \u001b[49m\u001b[43merror_info\u001b[49m\u001b[43m=\u001b[49m\u001b[38;5;28;43;01mNone\u001b[39;49;00m\u001b[43m \u001b[49m\u001b[38;5;66;43;03m# Handled above\u001b[39;49;00m\n\u001b[32m    216\u001b[39m \u001b[43m    \u001b[49m\u001b[43m)\u001b[49m\n\u001b[32m    217\u001b[39m     insights.append(insight)\n\u001b[32m    220\u001b[39m \u001b[38;5;28;01mexcept\u001b[39;00m json.JSONDecodeError \u001b[38;5;28;01mas\u001b[39;00m json_error:\n",
      "\u001b[36mFile \u001b[39m\u001b[32m~/play/experiments/insights/.venv/lib/python3.12/site-packages/pydantic/main.py:253\u001b[39m, in \u001b[36mBaseModel.__init__\u001b[39m\u001b[34m(self, **data)\u001b[39m\n\u001b[32m    251\u001b[39m \u001b[38;5;66;03m# `__tracebackhide__` tells pytest and some other tools to omit this function from tracebacks\u001b[39;00m\n\u001b[32m    252\u001b[39m __tracebackhide__ = \u001b[38;5;28;01mTrue\u001b[39;00m\n\u001b[32m--> \u001b[39m\u001b[32m253\u001b[39m validated_self = \u001b[38;5;28;43mself\u001b[39;49m\u001b[43m.\u001b[49m\u001b[43m__pydantic_validator__\u001b[49m\u001b[43m.\u001b[49m\u001b[43mvalidate_python\u001b[49m\u001b[43m(\u001b[49m\u001b[43mdata\u001b[49m\u001b[43m,\u001b[49m\u001b[43m \u001b[49m\u001b[43mself_instance\u001b[49m\u001b[43m=\u001b[49m\u001b[38;5;28;43mself\u001b[39;49m\u001b[43m)\u001b[49m\n\u001b[32m    254\u001b[39m \u001b[38;5;28;01mif\u001b[39;00m \u001b[38;5;28mself\u001b[39m \u001b[38;5;129;01mis\u001b[39;00m \u001b[38;5;129;01mnot\u001b[39;00m validated_self:\n\u001b[32m    255\u001b[39m     warnings.warn(\n\u001b[32m    256\u001b[39m         \u001b[33m'\u001b[39m\u001b[33mA custom validator is returning a value other than `self`.\u001b[39m\u001b[38;5;130;01m\\n\u001b[39;00m\u001b[33m'\u001b[39m\n\u001b[32m    257\u001b[39m         \u001b[33m\"\u001b[39m\u001b[33mReturning anything other than `self` from a top level model validator isn\u001b[39m\u001b[33m'\u001b[39m\u001b[33mt supported when validating via `__init__`.\u001b[39m\u001b[38;5;130;01m\\n\u001b[39;00m\u001b[33m\"\u001b[39m\n\u001b[32m    258\u001b[39m         \u001b[33m'\u001b[39m\u001b[33mSee the `model_validator` docs (https://docs.pydantic.dev/latest/concepts/validators/#model-validators) for more details.\u001b[39m\u001b[33m'\u001b[39m,\n\u001b[32m    259\u001b[39m         stacklevel=\u001b[32m2\u001b[39m,\n\u001b[32m    260\u001b[39m     )\n",
      "\u001b[31mValidationError\u001b[39m: 1 validation error for StructuredInsight\ntier\n  Input should be 'Observation', 'Comparison', 'Trend', 'Anomaly', 'Contribution', 'Relationship', 'Data Quality' or 'Execution Info' [type=enum, input_value='Tier 1: Key Finding', input_type=str]\n    For further information visit https://errors.pydantic.dev/2.11/v/enum"
     ]
    }
   ],
   "source": [
    "for result in execution_results:\n",
    "    res = ProcessedQuestionResult(**result)\n",
    "    insight = insight_agent.generate_insights(res, db_summary)\n",
    "    break"
   ]
  },
  {
   "cell_type": "code",
   "execution_count": null,
   "metadata": {},
   "outputs": [],
   "source": [
    "insight[0]"
   ]
  },
  {
   "cell_type": "code",
   "execution_count": null,
   "metadata": {},
   "outputs": [],
   "source": []
  }
 ],
 "metadata": {
  "kernelspec": {
   "display_name": ".venv",
   "language": "python",
   "name": "python3"
  },
  "language_info": {
   "codemirror_mode": {
    "name": "ipython",
    "version": 3
   },
   "file_extension": ".py",
   "mimetype": "text/x-python",
   "name": "python",
   "nbconvert_exporter": "python",
   "pygments_lexer": "ipython3",
   "version": "3.12.9"
  }
 },
 "nbformat": 4,
 "nbformat_minor": 2
}
