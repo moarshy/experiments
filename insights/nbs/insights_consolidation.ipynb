{
 "cells": [
  {
   "cell_type": "code",
   "execution_count": 1,
   "metadata": {},
   "outputs": [],
   "source": [
    "from dotenv import load_dotenv\n",
    "load_dotenv()\n",
    "\n",
    "import logging\n",
    "\n",
    "logging.basicConfig(level=logging.INFO)\n",
    "logger = logging.getLogger(__name__)"
   ]
  },
  {
   "cell_type": "code",
   "execution_count": 2,
   "metadata": {},
   "outputs": [],
   "source": [
    "import json\n",
    "from insights.agents.text2sql_agent import Text2SQLExecuteAgent\n",
    "from insights.agents.insight_agent import InsightAgent, ProcessedQuestionResult, StructuredInsight\n",
    "from insights.agents.db_summary_agent import DatabaseSummaryAgent, ColumnSummary, TableSummary, DatabaseSummary\n",
    "from insights.agents.insights_consolidation_agent import InsightConsolidationAgent\n",
    "\n",
    "from sklearn.metrics.pairwise import cosine_similarity\n"
   ]
  },
  {
   "cell_type": "code",
   "execution_count": 3,
   "metadata": {},
   "outputs": [],
   "source": [
    "db_summary_path = '/Users/arshath/play/experiments/insights/database_summary.json'\n",
    "questions_path = '/Users/arshath/play/experiments/insights/generated_questions.json'\n",
    "execution_results_path = '/Users/arshath/play/experiments/insights/nbs/sql_execution_results_gpt4.1.json'\n",
    "insights_path = '/Users/arshath/play/experiments/insights/nbs/insights.json'\n",
    "\n",
    "with open(db_summary_path, 'r', encoding='utf-8') as f:\n",
    "    db_summary_data = json.load(f)\n",
    "    db_summary = DatabaseSummary(**db_summary_data['technical_summary'])\n",
    "    db_summary.natural_language_summary = db_summary_data['natural_language_summary']\n",
    "\n",
    "with open(questions_path, 'r', encoding='utf-8') as f:\n",
    "    questions_input = json.load(f)\n",
    "    analysis_questions = questions_input.get(\"questions\", [])\n",
    "\n",
    "with open(execution_results_path, 'r', encoding='utf-8') as f:\n",
    "    execution_results = json.load(f)\n",
    "    execution_results = [ProcessedQuestionResult(**result) for result in execution_results]\n",
    "\n",
    "with open(insights_path, 'r', encoding='utf-8') as f:\n",
    "    insights = json.load(f)\n",
    "    insights = [StructuredInsight(**insight) for insight in insights]"
   ]
  },
  {
   "cell_type": "code",
   "execution_count": 4,
   "metadata": {},
   "outputs": [
    {
     "name": "stderr",
     "output_type": "stream",
     "text": [
      "INFO:insights.utils:Using existing OpenAI client for embeddings (Model: text-embedding-3-large).\n",
      "INFO:insights.utils:InsightConsolidationAgent initialized. Embedding Provider: OpenAI (Model: text-embedding-3-large), Deduplication: 0.9, Synthesis: True\n",
      "INFO:insights.utils:Using existing OpenAI client for embeddings (Model: text-embedding-3-large).\n",
      "INFO:insights.utils:InsightConsolidationAgent initialized. Embedding Provider: OpenAI (Model: text-embedding-3-large), Deduplication: 0.9, Synthesis: True\n"
     ]
    }
   ],
   "source": [
    "insights_consolidation_agent = InsightConsolidationAgent(\n",
    "    llm_provider=\"openai\",\n",
    "    embedding_model_name=\"text-embedding-3-large\"\n",
    ")\n",
    "\n",
    "insights_consolidation_agent = InsightConsolidationAgent()\n"
   ]
  },
  {
   "cell_type": "code",
   "execution_count": 5,
   "metadata": {},
   "outputs": [
    {
     "name": "stderr",
     "output_type": "stream",
     "text": [
      "INFO:insights.utils:Starting consolidation for 49 raw insights...\n",
      "INFO:httpx:HTTP Request: POST https://api.openai.com/v1/embeddings \"HTTP/1.1 200 OK\"\n",
      "INFO:insights.utils:Reduced to 49 unique insights after deduplication.\n",
      "INFO:insights.utils:Attempting insight synthesis...\n",
      "INFO:httpx:HTTP Request: POST https://api.openai.com/v1/embeddings \"HTTP/1.1 200 OK\"\n",
      "INFO:insights.utils:Found 10 clusters for synthesis. 20 insights remain unclustered.\n",
      "INFO:insights.utils:Synthesizing cluster 1/10...\n",
      "INFO:httpx:HTTP Request: POST https://api.openai.com/v1/chat/completions \"HTTP/1.1 200 OK\"\n",
      "INFO:insights.utils:Successfully synthesized cluster 1.\n",
      "INFO:insights.utils:Synthesizing cluster 2/10...\n",
      "INFO:httpx:HTTP Request: POST https://api.openai.com/v1/chat/completions \"HTTP/1.1 200 OK\"\n",
      "INFO:insights.llm:Retrying... (1/3)\n",
      "INFO:httpx:HTTP Request: POST https://api.openai.com/v1/chat/completions \"HTTP/1.1 200 OK\"\n",
      "INFO:insights.utils:Successfully synthesized cluster 2.\n",
      "INFO:insights.utils:Synthesizing cluster 3/10...\n",
      "INFO:httpx:HTTP Request: POST https://api.openai.com/v1/chat/completions \"HTTP/1.1 200 OK\"\n",
      "INFO:insights.utils:Successfully synthesized cluster 3.\n",
      "INFO:insights.utils:Synthesizing cluster 4/10...\n",
      "INFO:httpx:HTTP Request: POST https://api.openai.com/v1/chat/completions \"HTTP/1.1 200 OK\"\n",
      "INFO:insights.utils:Successfully synthesized cluster 4.\n",
      "INFO:insights.utils:Synthesizing cluster 5/10...\n",
      "INFO:httpx:HTTP Request: POST https://api.openai.com/v1/chat/completions \"HTTP/1.1 200 OK\"\n",
      "INFO:insights.utils:Successfully synthesized cluster 5.\n",
      "INFO:insights.utils:Synthesizing cluster 6/10...\n",
      "INFO:httpx:HTTP Request: POST https://api.openai.com/v1/chat/completions \"HTTP/1.1 200 OK\"\n",
      "INFO:insights.utils:Successfully synthesized cluster 6.\n",
      "INFO:insights.utils:Synthesizing cluster 7/10...\n",
      "INFO:httpx:HTTP Request: POST https://api.openai.com/v1/chat/completions \"HTTP/1.1 200 OK\"\n",
      "INFO:insights.utils:Successfully synthesized cluster 7.\n",
      "INFO:insights.utils:Synthesizing cluster 8/10...\n",
      "INFO:httpx:HTTP Request: POST https://api.openai.com/v1/chat/completions \"HTTP/1.1 200 OK\"\n",
      "INFO:insights.llm:Retrying... (1/3)\n",
      "INFO:httpx:HTTP Request: POST https://api.openai.com/v1/chat/completions \"HTTP/1.1 200 OK\"\n",
      "INFO:insights.utils:Successfully synthesized cluster 8.\n",
      "INFO:insights.utils:Synthesizing cluster 9/10...\n",
      "INFO:httpx:HTTP Request: POST https://api.openai.com/v1/chat/completions \"HTTP/1.1 200 OK\"\n",
      "INFO:insights.llm:Retrying... (1/3)\n",
      "INFO:httpx:HTTP Request: POST https://api.openai.com/v1/chat/completions \"HTTP/1.1 200 OK\"\n",
      "INFO:insights.utils:Successfully synthesized cluster 9.\n",
      "INFO:insights.utils:Synthesizing cluster 10/10...\n",
      "INFO:httpx:HTTP Request: POST https://api.openai.com/v1/chat/completions \"HTTP/1.1 200 OK\"\n",
      "INFO:insights.utils:Successfully synthesized cluster 10.\n",
      "INFO:insights.utils:Generated 10 synthesized insights.\n",
      "INFO:insights.utils:Total insights after synthesis step: 30\n",
      "INFO:insights.utils:Prioritized 30 insights.\n",
      "INFO:insights.utils:Filtered down to 30 final insights.\n"
     ]
    }
   ],
   "source": [
    "consolidated_insights = insights_consolidation_agent.consolidate(insights)"
   ]
  },
  {
   "cell_type": "code",
   "execution_count": 11,
   "metadata": {},
   "outputs": [
    {
     "data": {
      "text/plain": [
       "{'insight_id': 'SYN-295270aba7',\n",
       " 'question_id': 'N/A',\n",
       " 'question_text': 'N/A',\n",
       " 'headline': \"Apple's M2 Series Solidifies Its Premium Position in the High-End Laptop Market\",\n",
       " 'description': \"Apple's laptops, particularly those equipped with M2 processors, command the highest average selling prices in the market. The M2 Max processor, in particular, stands out with an average sales price of $2798.99, underscoring Apple's dominance in the premium segment. This reflects a strong brand premium and consumer perception of value, positioning Apple as a leader in high-end laptops. Competitors must understand these dynamics to effectively compete, while Apple can leverage this premium positioning in its marketing strategies.\",\n",
       " 'tier': <InsightTier.CONTRIBUTION: 'Contribution'>,\n",
       " 'supporting_metrics': {},\n",
       " 'supporting_examples': None,\n",
       " 'comparison_details': 'Apple laptops vs other brands',\n",
       " 'trend_pattern': None,\n",
       " 'anomaly_description': None,\n",
       " 'contribution_details': \"Apple's M2 series processors command the highest prices, reinforcing brand dominance.\",\n",
       " 'relevance_score': 0.9,\n",
       " 'significance_score': 0.85,\n",
       " 'confidence_score': 0.9,\n",
       " 'potential_actions': [\"Leverage Apple's brand premium in marketing campaigns.\",\n",
       "  \"Competitors should analyze Apple's pricing strategies to adjust their market approach.\"],\n",
       " 'further_investigation_q': ['What specific features of the M2 processors contribute most to their high perceived value?',\n",
       "  'How do consumer demographics correlate with purchases of high-end Apple laptops?',\n",
       "  'What are the trends in consumer satisfaction with Apple M2 series laptops compared to competitors?'],\n",
       " 'source_sql': \"SELECT brand, processor, AVG(sales_price) FROM laptop_sales WHERE processor LIKE 'M2%' GROUP BY brand, processor;\",\n",
       " 'data_row_count': None,\n",
       " 'data_column_names': ['brand', 'processor', 'AVG(sales_price)'],\n",
       " 'execution_time': None,\n",
       " 'error_info': None}"
      ]
     },
     "execution_count": 11,
     "metadata": {},
     "output_type": "execute_result"
    }
   ],
   "source": [
    "consolidated_insights[0].model_dump()"
   ]
  },
  {
   "cell_type": "code",
   "execution_count": 12,
   "metadata": {},
   "outputs": [],
   "source": [
    "consolidated_insights = [insight.model_dump() for insight in consolidated_insights]\n",
    "\n",
    "with open('consolidated_insights.json', 'w', encoding='utf-8') as f:\n",
    "    json.dump(consolidated_insights, f, indent=4)"
   ]
  }
 ],
 "metadata": {
  "kernelspec": {
   "display_name": ".venv",
   "language": "python",
   "name": "python3"
  },
  "language_info": {
   "codemirror_mode": {
    "name": "ipython",
    "version": 3
   },
   "file_extension": ".py",
   "mimetype": "text/x-python",
   "name": "python",
   "nbconvert_exporter": "python",
   "pygments_lexer": "ipython3",
   "version": "3.12.9"
  }
 },
 "nbformat": 4,
 "nbformat_minor": 2
}
