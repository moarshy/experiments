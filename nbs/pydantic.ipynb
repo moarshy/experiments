{
 "cells": [
  {
   "cell_type": "code",
   "execution_count": 7,
   "metadata": {},
   "outputs": [
    {
     "name": "stdout",
     "output_type": "stream",
     "text": [
      "Requirement already satisfied: pydantic-ai[examples] in /Users/arshath/miniforge3/lib/python3.11/site-packages (0.0.43)\n",
      "Requirement already satisfied: pydantic-ai-slim==0.0.43 in /Users/arshath/miniforge3/lib/python3.11/site-packages (from pydantic-ai-slim[anthropic,bedrock,cli,cohere,groq,mcp,mistral,openai,vertexai]==0.0.43->pydantic-ai[examples]) (0.0.43)\n",
      "Collecting pydantic-ai-examples==0.0.43 (from pydantic-ai[examples])\n",
      "  Downloading pydantic_ai_examples-0.0.43-py3-none-any.whl.metadata (2.5 kB)\n",
      "Collecting asyncpg>=0.30.0 (from pydantic-ai-examples==0.0.43->pydantic-ai[examples])\n",
      "  Downloading asyncpg-0.30.0-cp311-cp311-macosx_11_0_arm64.whl.metadata (5.0 kB)\n",
      "Collecting devtools>=0.12.2 (from pydantic-ai-examples==0.0.43->pydantic-ai[examples])\n",
      "  Downloading devtools-0.12.2-py3-none-any.whl.metadata (4.8 kB)\n",
      "Requirement already satisfied: fastapi>=0.115.4 in /Users/arshath/miniforge3/lib/python3.11/site-packages (from pydantic-ai-examples==0.0.43->pydantic-ai[examples]) (0.115.6)\n",
      "Collecting gradio>=5.9.0 (from pydantic-ai-examples==0.0.43->pydantic-ai[examples])\n",
      "  Downloading gradio-5.22.0-py3-none-any.whl.metadata (16 kB)\n",
      "Collecting logfire>=2.6 (from logfire[asyncpg,fastapi,sqlite3]>=2.6->pydantic-ai-examples==0.0.43->pydantic-ai[examples])\n",
      "  Downloading logfire-3.9.0-py3-none-any.whl.metadata (9.0 kB)\n",
      "Requirement already satisfied: mcp>=1.4.1 in /Users/arshath/miniforge3/lib/python3.11/site-packages (from mcp[cli]>=1.4.1; python_version >= \"3.10\"->pydantic-ai-examples==0.0.43->pydantic-ai[examples]) (1.5.0)\n",
      "Requirement already satisfied: python-multipart>=0.0.17 in /Users/arshath/miniforge3/lib/python3.11/site-packages (from pydantic-ai-examples==0.0.43->pydantic-ai[examples]) (0.0.18)\n",
      "Requirement already satisfied: rich>=13.9.2 in /Users/arshath/miniforge3/lib/python3.11/site-packages (from pydantic-ai-examples==0.0.43->pydantic-ai[examples]) (13.9.4)\n",
      "Requirement already satisfied: uvicorn>=0.32.0 in /Users/arshath/miniforge3/lib/python3.11/site-packages (from pydantic-ai-examples==0.0.43->pydantic-ai[examples]) (0.34.0)\n",
      "Requirement already satisfied: eval-type-backport>=0.2.0 in /Users/arshath/miniforge3/lib/python3.11/site-packages (from pydantic-ai-slim==0.0.43->pydantic-ai-slim[anthropic,bedrock,cli,cohere,groq,mcp,mistral,openai,vertexai]==0.0.43->pydantic-ai[examples]) (0.2.2)\n",
      "Requirement already satisfied: griffe>=1.3.2 in /Users/arshath/miniforge3/lib/python3.11/site-packages (from pydantic-ai-slim==0.0.43->pydantic-ai-slim[anthropic,bedrock,cli,cohere,groq,mcp,mistral,openai,vertexai]==0.0.43->pydantic-ai[examples]) (1.6.2)\n",
      "Requirement already satisfied: httpx>=0.27 in /Users/arshath/miniforge3/lib/python3.11/site-packages (from pydantic-ai-slim==0.0.43->pydantic-ai-slim[anthropic,bedrock,cli,cohere,groq,mcp,mistral,openai,vertexai]==0.0.43->pydantic-ai[examples]) (0.28.1)\n",
      "Requirement already satisfied: opentelemetry-api>=1.28.0 in /Users/arshath/miniforge3/lib/python3.11/site-packages (from pydantic-ai-slim==0.0.43->pydantic-ai-slim[anthropic,bedrock,cli,cohere,groq,mcp,mistral,openai,vertexai]==0.0.43->pydantic-ai[examples]) (1.30.0)\n",
      "Requirement already satisfied: pydantic-graph==0.0.43 in /Users/arshath/miniforge3/lib/python3.11/site-packages (from pydantic-ai-slim==0.0.43->pydantic-ai-slim[anthropic,bedrock,cli,cohere,groq,mcp,mistral,openai,vertexai]==0.0.43->pydantic-ai[examples]) (0.0.43)\n",
      "Requirement already satisfied: pydantic>=2.10 in /Users/arshath/miniforge3/lib/python3.11/site-packages (from pydantic-ai-slim==0.0.43->pydantic-ai-slim[anthropic,bedrock,cli,cohere,groq,mcp,mistral,openai,vertexai]==0.0.43->pydantic-ai[examples]) (2.10.6)\n",
      "Requirement already satisfied: typing-inspection>=0.4.0 in /Users/arshath/miniforge3/lib/python3.11/site-packages (from pydantic-ai-slim==0.0.43->pydantic-ai-slim[anthropic,bedrock,cli,cohere,groq,mcp,mistral,openai,vertexai]==0.0.43->pydantic-ai[examples]) (0.4.0)\n",
      "Requirement already satisfied: anthropic>=0.49.0 in /Users/arshath/miniforge3/lib/python3.11/site-packages (from pydantic-ai-slim[anthropic,bedrock,cli,cohere,groq,mcp,mistral,openai,vertexai]==0.0.43->pydantic-ai[examples]) (0.49.0)\n",
      "Requirement already satisfied: boto3>=1.34.116 in /Users/arshath/miniforge3/lib/python3.11/site-packages (from pydantic-ai-slim[anthropic,bedrock,cli,cohere,groq,mcp,mistral,openai,vertexai]==0.0.43->pydantic-ai[examples]) (1.37.18)\n",
      "Requirement already satisfied: argcomplete>=3.5.0 in /Users/arshath/miniforge3/lib/python3.11/site-packages (from pydantic-ai-slim[anthropic,bedrock,cli,cohere,groq,mcp,mistral,openai,vertexai]==0.0.43->pydantic-ai[examples]) (3.6.1)\n",
      "Requirement already satisfied: prompt-toolkit>=3 in /Users/arshath/miniforge3/lib/python3.11/site-packages (from pydantic-ai-slim[anthropic,bedrock,cli,cohere,groq,mcp,mistral,openai,vertexai]==0.0.43->pydantic-ai[examples]) (3.0.48)\n",
      "Requirement already satisfied: cohere>=5.13.11 in /Users/arshath/miniforge3/lib/python3.11/site-packages (from pydantic-ai-slim[anthropic,bedrock,cli,cohere,groq,mcp,mistral,openai,vertexai]==0.0.43->pydantic-ai[examples]) (5.14.0)\n",
      "Requirement already satisfied: groq>=0.15.0 in /Users/arshath/miniforge3/lib/python3.11/site-packages (from pydantic-ai-slim[anthropic,bedrock,cli,cohere,groq,mcp,mistral,openai,vertexai]==0.0.43->pydantic-ai[examples]) (0.20.0)\n",
      "Requirement already satisfied: mistralai>=1.2.5 in /Users/arshath/miniforge3/lib/python3.11/site-packages (from pydantic-ai-slim[anthropic,bedrock,cli,cohere,groq,mcp,mistral,openai,vertexai]==0.0.43->pydantic-ai[examples]) (1.6.0)\n",
      "Requirement already satisfied: openai>=1.65.1 in /Users/arshath/miniforge3/lib/python3.11/site-packages (from pydantic-ai-slim[anthropic,bedrock,cli,cohere,groq,mcp,mistral,openai,vertexai]==0.0.43->pydantic-ai[examples]) (1.66.3)\n",
      "Requirement already satisfied: google-auth>=2.36.0 in /Users/arshath/miniforge3/lib/python3.11/site-packages (from pydantic-ai-slim[anthropic,bedrock,cli,cohere,groq,mcp,mistral,openai,vertexai]==0.0.43->pydantic-ai[examples]) (2.37.0)\n",
      "Requirement already satisfied: requests>=2.32.3 in /Users/arshath/miniforge3/lib/python3.11/site-packages (from pydantic-ai-slim[anthropic,bedrock,cli,cohere,groq,mcp,mistral,openai,vertexai]==0.0.43->pydantic-ai[examples]) (2.32.3)\n",
      "Requirement already satisfied: logfire-api>=1.2.0 in /Users/arshath/miniforge3/lib/python3.11/site-packages (from pydantic-graph==0.0.43->pydantic-ai-slim==0.0.43->pydantic-ai-slim[anthropic,bedrock,cli,cohere,groq,mcp,mistral,openai,vertexai]==0.0.43->pydantic-ai[examples]) (3.9.0)\n",
      "Requirement already satisfied: anyio<5,>=3.5.0 in /Users/arshath/miniforge3/lib/python3.11/site-packages (from anthropic>=0.49.0->pydantic-ai-slim[anthropic,bedrock,cli,cohere,groq,mcp,mistral,openai,vertexai]==0.0.43->pydantic-ai[examples]) (4.7.0)\n",
      "Requirement already satisfied: distro<2,>=1.7.0 in /Users/arshath/miniforge3/lib/python3.11/site-packages (from anthropic>=0.49.0->pydantic-ai-slim[anthropic,bedrock,cli,cohere,groq,mcp,mistral,openai,vertexai]==0.0.43->pydantic-ai[examples]) (1.9.0)\n",
      "Requirement already satisfied: jiter<1,>=0.4.0 in /Users/arshath/miniforge3/lib/python3.11/site-packages (from anthropic>=0.49.0->pydantic-ai-slim[anthropic,bedrock,cli,cohere,groq,mcp,mistral,openai,vertexai]==0.0.43->pydantic-ai[examples]) (0.8.2)\n",
      "Requirement already satisfied: sniffio in /Users/arshath/miniforge3/lib/python3.11/site-packages (from anthropic>=0.49.0->pydantic-ai-slim[anthropic,bedrock,cli,cohere,groq,mcp,mistral,openai,vertexai]==0.0.43->pydantic-ai[examples]) (1.3.1)\n",
      "Requirement already satisfied: typing-extensions<5,>=4.10 in /Users/arshath/miniforge3/lib/python3.11/site-packages (from anthropic>=0.49.0->pydantic-ai-slim[anthropic,bedrock,cli,cohere,groq,mcp,mistral,openai,vertexai]==0.0.43->pydantic-ai[examples]) (4.12.2)\n",
      "Requirement already satisfied: botocore<1.38.0,>=1.37.18 in /Users/arshath/miniforge3/lib/python3.11/site-packages (from boto3>=1.34.116->pydantic-ai-slim[anthropic,bedrock,cli,cohere,groq,mcp,mistral,openai,vertexai]==0.0.43->pydantic-ai[examples]) (1.37.18)\n",
      "Requirement already satisfied: jmespath<2.0.0,>=0.7.1 in /Users/arshath/miniforge3/lib/python3.11/site-packages (from boto3>=1.34.116->pydantic-ai-slim[anthropic,bedrock,cli,cohere,groq,mcp,mistral,openai,vertexai]==0.0.43->pydantic-ai[examples]) (1.0.1)\n",
      "Requirement already satisfied: s3transfer<0.12.0,>=0.11.0 in /Users/arshath/miniforge3/lib/python3.11/site-packages (from boto3>=1.34.116->pydantic-ai-slim[anthropic,bedrock,cli,cohere,groq,mcp,mistral,openai,vertexai]==0.0.43->pydantic-ai[examples]) (0.11.4)\n",
      "Requirement already satisfied: fastavro<2.0.0,>=1.9.4 in /Users/arshath/miniforge3/lib/python3.11/site-packages (from cohere>=5.13.11->pydantic-ai-slim[anthropic,bedrock,cli,cohere,groq,mcp,mistral,openai,vertexai]==0.0.43->pydantic-ai[examples]) (1.10.0)\n",
      "Requirement already satisfied: httpx-sse==0.4.0 in /Users/arshath/miniforge3/lib/python3.11/site-packages (from cohere>=5.13.11->pydantic-ai-slim[anthropic,bedrock,cli,cohere,groq,mcp,mistral,openai,vertexai]==0.0.43->pydantic-ai[examples]) (0.4.0)\n",
      "Requirement already satisfied: pydantic-core<3.0.0,>=2.18.2 in /Users/arshath/miniforge3/lib/python3.11/site-packages (from cohere>=5.13.11->pydantic-ai-slim[anthropic,bedrock,cli,cohere,groq,mcp,mistral,openai,vertexai]==0.0.43->pydantic-ai[examples]) (2.27.2)\n",
      "Requirement already satisfied: tokenizers<1,>=0.15 in /Users/arshath/miniforge3/lib/python3.11/site-packages (from cohere>=5.13.11->pydantic-ai-slim[anthropic,bedrock,cli,cohere,groq,mcp,mistral,openai,vertexai]==0.0.43->pydantic-ai[examples]) (0.20.3)\n",
      "Requirement already satisfied: types-requests<3.0.0,>=2.0.0 in /Users/arshath/miniforge3/lib/python3.11/site-packages (from cohere>=5.13.11->pydantic-ai-slim[anthropic,bedrock,cli,cohere,groq,mcp,mistral,openai,vertexai]==0.0.43->pydantic-ai[examples]) (2.32.0.20241016)\n",
      "Collecting asttokens<3.0.0,>=2.0.0 (from devtools>=0.12.2->pydantic-ai-examples==0.0.43->pydantic-ai[examples])\n",
      "  Downloading asttokens-2.4.1-py2.py3-none-any.whl.metadata (5.2 kB)\n",
      "Requirement already satisfied: executing>=1.1.1 in /Users/arshath/miniforge3/lib/python3.11/site-packages (from devtools>=0.12.2->pydantic-ai-examples==0.0.43->pydantic-ai[examples]) (2.1.0)\n",
      "Requirement already satisfied: pygments>=2.15.0 in /Users/arshath/miniforge3/lib/python3.11/site-packages (from devtools>=0.12.2->pydantic-ai-examples==0.0.43->pydantic-ai[examples]) (2.18.0)\n",
      "Requirement already satisfied: starlette<0.42.0,>=0.40.0 in /Users/arshath/miniforge3/lib/python3.11/site-packages (from fastapi>=0.115.4->pydantic-ai-examples==0.0.43->pydantic-ai[examples]) (0.41.3)\n",
      "Requirement already satisfied: cachetools<6.0,>=2.0.0 in /Users/arshath/miniforge3/lib/python3.11/site-packages (from google-auth>=2.36.0->pydantic-ai-slim[anthropic,bedrock,cli,cohere,groq,mcp,mistral,openai,vertexai]==0.0.43->pydantic-ai[examples]) (5.5.0)\n",
      "Requirement already satisfied: pyasn1-modules>=0.2.1 in /Users/arshath/miniforge3/lib/python3.11/site-packages (from google-auth>=2.36.0->pydantic-ai-slim[anthropic,bedrock,cli,cohere,groq,mcp,mistral,openai,vertexai]==0.0.43->pydantic-ai[examples]) (0.4.1)\n",
      "Requirement already satisfied: rsa<5,>=3.1.4 in /Users/arshath/miniforge3/lib/python3.11/site-packages (from google-auth>=2.36.0->pydantic-ai-slim[anthropic,bedrock,cli,cohere,groq,mcp,mistral,openai,vertexai]==0.0.43->pydantic-ai[examples]) (4.9)\n",
      "Collecting aiofiles<24.0,>=22.0 (from gradio>=5.9.0->pydantic-ai-examples==0.0.43->pydantic-ai[examples])\n",
      "  Downloading aiofiles-23.2.1-py3-none-any.whl.metadata (9.7 kB)\n",
      "Collecting ffmpy (from gradio>=5.9.0->pydantic-ai-examples==0.0.43->pydantic-ai[examples])\n",
      "  Downloading ffmpy-0.5.0-py3-none-any.whl.metadata (3.0 kB)\n",
      "Collecting gradio-client==1.8.0 (from gradio>=5.9.0->pydantic-ai-examples==0.0.43->pydantic-ai[examples])\n",
      "  Downloading gradio_client-1.8.0-py3-none-any.whl.metadata (7.1 kB)\n",
      "Collecting groovy~=0.1 (from gradio>=5.9.0->pydantic-ai-examples==0.0.43->pydantic-ai[examples])\n",
      "  Downloading groovy-0.1.2-py3-none-any.whl.metadata (6.1 kB)\n",
      "Collecting huggingface-hub>=0.28.1 (from gradio>=5.9.0->pydantic-ai-examples==0.0.43->pydantic-ai[examples])\n",
      "  Using cached huggingface_hub-0.29.3-py3-none-any.whl.metadata (13 kB)\n",
      "Requirement already satisfied: jinja2<4.0 in /Users/arshath/miniforge3/lib/python3.11/site-packages (from gradio>=5.9.0->pydantic-ai-examples==0.0.43->pydantic-ai[examples]) (3.1.5)\n",
      "Requirement already satisfied: markupsafe<4.0,>=2.0 in /Users/arshath/miniforge3/lib/python3.11/site-packages (from gradio>=5.9.0->pydantic-ai-examples==0.0.43->pydantic-ai[examples]) (3.0.2)\n",
      "Requirement already satisfied: numpy<3.0,>=1.0 in /Users/arshath/miniforge3/lib/python3.11/site-packages (from gradio>=5.9.0->pydantic-ai-examples==0.0.43->pydantic-ai[examples]) (2.2.2)\n",
      "Requirement already satisfied: orjson~=3.0 in /Users/arshath/miniforge3/lib/python3.11/site-packages (from gradio>=5.9.0->pydantic-ai-examples==0.0.43->pydantic-ai[examples]) (3.10.15)\n",
      "Requirement already satisfied: packaging in /Users/arshath/miniforge3/lib/python3.11/site-packages (from gradio>=5.9.0->pydantic-ai-examples==0.0.43->pydantic-ai[examples]) (24.1)\n",
      "Requirement already satisfied: pandas<3.0,>=1.0 in /Users/arshath/miniforge3/lib/python3.11/site-packages (from gradio>=5.9.0->pydantic-ai-examples==0.0.43->pydantic-ai[examples]) (2.2.3)\n",
      "Requirement already satisfied: pillow<12.0,>=8.0 in /Users/arshath/miniforge3/lib/python3.11/site-packages (from gradio>=5.9.0->pydantic-ai-examples==0.0.43->pydantic-ai[examples]) (10.4.0)\n",
      "Requirement already satisfied: pydub in /Users/arshath/miniforge3/lib/python3.11/site-packages (from gradio>=5.9.0->pydantic-ai-examples==0.0.43->pydantic-ai[examples]) (0.25.1)\n",
      "Requirement already satisfied: pyyaml<7.0,>=5.0 in /Users/arshath/miniforge3/lib/python3.11/site-packages (from gradio>=5.9.0->pydantic-ai-examples==0.0.43->pydantic-ai[examples]) (6.0.2)\n",
      "Collecting ruff>=0.9.3 (from gradio>=5.9.0->pydantic-ai-examples==0.0.43->pydantic-ai[examples])\n",
      "  Downloading ruff-0.11.2-py3-none-macosx_11_0_arm64.whl.metadata (25 kB)\n",
      "Collecting safehttpx<0.2.0,>=0.1.6 (from gradio>=5.9.0->pydantic-ai-examples==0.0.43->pydantic-ai[examples])\n",
      "  Downloading safehttpx-0.1.6-py3-none-any.whl.metadata (4.2 kB)\n",
      "Collecting semantic-version~=2.0 (from gradio>=5.9.0->pydantic-ai-examples==0.0.43->pydantic-ai[examples])\n",
      "  Downloading semantic_version-2.10.0-py2.py3-none-any.whl.metadata (9.7 kB)\n",
      "Requirement already satisfied: tomlkit<0.14.0,>=0.12.0 in /Users/arshath/miniforge3/lib/python3.11/site-packages (from gradio>=5.9.0->pydantic-ai-examples==0.0.43->pydantic-ai[examples]) (0.13.2)\n",
      "Requirement already satisfied: typer<1.0,>=0.12 in /Users/arshath/miniforge3/lib/python3.11/site-packages (from gradio>=5.9.0->pydantic-ai-examples==0.0.43->pydantic-ai[examples]) (0.15.1)\n",
      "Requirement already satisfied: fsspec in /Users/arshath/miniforge3/lib/python3.11/site-packages (from gradio-client==1.8.0->gradio>=5.9.0->pydantic-ai-examples==0.0.43->pydantic-ai[examples]) (2024.9.0)\n",
      "Requirement already satisfied: websockets<16.0,>=10.0 in /Users/arshath/miniforge3/lib/python3.11/site-packages (from gradio-client==1.8.0->gradio>=5.9.0->pydantic-ai-examples==0.0.43->pydantic-ai[examples]) (10.4)\n",
      "Requirement already satisfied: colorama>=0.4 in /Users/arshath/miniforge3/lib/python3.11/site-packages (from griffe>=1.3.2->pydantic-ai-slim==0.0.43->pydantic-ai-slim[anthropic,bedrock,cli,cohere,groq,mcp,mistral,openai,vertexai]==0.0.43->pydantic-ai[examples]) (0.4.6)\n",
      "Requirement already satisfied: certifi in /Users/arshath/miniforge3/lib/python3.11/site-packages (from httpx>=0.27->pydantic-ai-slim==0.0.43->pydantic-ai-slim[anthropic,bedrock,cli,cohere,groq,mcp,mistral,openai,vertexai]==0.0.43->pydantic-ai[examples]) (2024.12.14)\n",
      "Requirement already satisfied: httpcore==1.* in /Users/arshath/miniforge3/lib/python3.11/site-packages (from httpx>=0.27->pydantic-ai-slim==0.0.43->pydantic-ai-slim[anthropic,bedrock,cli,cohere,groq,mcp,mistral,openai,vertexai]==0.0.43->pydantic-ai[examples]) (1.0.7)\n",
      "Requirement already satisfied: idna in /Users/arshath/miniforge3/lib/python3.11/site-packages (from httpx>=0.27->pydantic-ai-slim==0.0.43->pydantic-ai-slim[anthropic,bedrock,cli,cohere,groq,mcp,mistral,openai,vertexai]==0.0.43->pydantic-ai[examples]) (3.10)\n",
      "Requirement already satisfied: h11<0.15,>=0.13 in /Users/arshath/miniforge3/lib/python3.11/site-packages (from httpcore==1.*->httpx>=0.27->pydantic-ai-slim==0.0.43->pydantic-ai-slim[anthropic,bedrock,cli,cohere,groq,mcp,mistral,openai,vertexai]==0.0.43->pydantic-ai[examples]) (0.14.0)\n",
      "Requirement already satisfied: opentelemetry-exporter-otlp-proto-http<1.32.0,>=1.21.0 in /Users/arshath/miniforge3/lib/python3.11/site-packages (from logfire>=2.6->logfire[asyncpg,fastapi,sqlite3]>=2.6->pydantic-ai-examples==0.0.43->pydantic-ai[examples]) (1.30.0)\n",
      "Requirement already satisfied: opentelemetry-instrumentation>=0.41b0 in /Users/arshath/miniforge3/lib/python3.11/site-packages (from logfire>=2.6->logfire[asyncpg,fastapi,sqlite3]>=2.6->pydantic-ai-examples==0.0.43->pydantic-ai[examples]) (0.51b0)\n",
      "Requirement already satisfied: opentelemetry-sdk<1.32.0,>=1.21.0 in /Users/arshath/miniforge3/lib/python3.11/site-packages (from logfire>=2.6->logfire[asyncpg,fastapi,sqlite3]>=2.6->pydantic-ai-examples==0.0.43->pydantic-ai[examples]) (1.30.0)\n",
      "Requirement already satisfied: protobuf>=4.23.4 in /Users/arshath/miniforge3/lib/python3.11/site-packages (from logfire>=2.6->logfire[asyncpg,fastapi,sqlite3]>=2.6->pydantic-ai-examples==0.0.43->pydantic-ai[examples]) (5.29.2)\n",
      "Collecting opentelemetry-instrumentation-asyncpg>=0.42b0 (from logfire[asyncpg,fastapi,sqlite3]>=2.6->pydantic-ai-examples==0.0.43->pydantic-ai[examples])\n",
      "  Downloading opentelemetry_instrumentation_asyncpg-0.52b1-py3-none-any.whl.metadata (2.1 kB)\n",
      "Requirement already satisfied: opentelemetry-instrumentation-fastapi>=0.42b0 in /Users/arshath/miniforge3/lib/python3.11/site-packages (from logfire[asyncpg,fastapi,sqlite3]>=2.6->pydantic-ai-examples==0.0.43->pydantic-ai[examples]) (0.51b0)\n",
      "Collecting opentelemetry-instrumentation-sqlite3>=0.42b0 (from logfire[asyncpg,fastapi,sqlite3]>=2.6->pydantic-ai-examples==0.0.43->pydantic-ai[examples])\n",
      "  Downloading opentelemetry_instrumentation_sqlite3-0.52b1-py3-none-any.whl.metadata (2.0 kB)\n",
      "Requirement already satisfied: pydantic-settings>=2.5.2 in /Users/arshath/miniforge3/lib/python3.11/site-packages (from mcp>=1.4.1->mcp[cli]>=1.4.1; python_version >= \"3.10\"->pydantic-ai-examples==0.0.43->pydantic-ai[examples]) (2.8.1)\n",
      "Requirement already satisfied: sse-starlette>=1.6.1 in /Users/arshath/miniforge3/lib/python3.11/site-packages (from mcp>=1.4.1->mcp[cli]>=1.4.1; python_version >= \"3.10\"->pydantic-ai-examples==0.0.43->pydantic-ai[examples]) (2.2.1)\n",
      "Requirement already satisfied: python-dotenv>=1.0.0 in /Users/arshath/miniforge3/lib/python3.11/site-packages (from mcp[cli]>=1.4.1; python_version >= \"3.10\"->pydantic-ai-examples==0.0.43->pydantic-ai[examples]) (1.0.1)\n",
      "Requirement already satisfied: python-dateutil>=2.8.2 in /Users/arshath/miniforge3/lib/python3.11/site-packages (from mistralai>=1.2.5->pydantic-ai-slim[anthropic,bedrock,cli,cohere,groq,mcp,mistral,openai,vertexai]==0.0.43->pydantic-ai[examples]) (2.9.0.post0)\n",
      "Requirement already satisfied: tqdm>4 in /Users/arshath/miniforge3/lib/python3.11/site-packages (from openai>=1.65.1->pydantic-ai-slim[anthropic,bedrock,cli,cohere,groq,mcp,mistral,openai,vertexai]==0.0.43->pydantic-ai[examples]) (4.67.0)\n",
      "Requirement already satisfied: deprecated>=1.2.6 in /Users/arshath/miniforge3/lib/python3.11/site-packages (from opentelemetry-api>=1.28.0->pydantic-ai-slim==0.0.43->pydantic-ai-slim[anthropic,bedrock,cli,cohere,groq,mcp,mistral,openai,vertexai]==0.0.43->pydantic-ai[examples]) (1.2.18)\n",
      "Requirement already satisfied: importlib-metadata<=8.5.0,>=6.0 in /Users/arshath/miniforge3/lib/python3.11/site-packages (from opentelemetry-api>=1.28.0->pydantic-ai-slim==0.0.43->pydantic-ai-slim[anthropic,bedrock,cli,cohere,groq,mcp,mistral,openai,vertexai]==0.0.43->pydantic-ai[examples]) (8.5.0)\n",
      "Requirement already satisfied: wcwidth in /Users/arshath/miniforge3/lib/python3.11/site-packages (from prompt-toolkit>=3->pydantic-ai-slim[anthropic,bedrock,cli,cohere,groq,mcp,mistral,openai,vertexai]==0.0.43->pydantic-ai[examples]) (0.2.13)\n",
      "Requirement already satisfied: annotated-types>=0.6.0 in /Users/arshath/miniforge3/lib/python3.11/site-packages (from pydantic>=2.10->pydantic-ai-slim==0.0.43->pydantic-ai-slim[anthropic,bedrock,cli,cohere,groq,mcp,mistral,openai,vertexai]==0.0.43->pydantic-ai[examples]) (0.7.0)\n",
      "Requirement already satisfied: charset-normalizer<4,>=2 in /Users/arshath/miniforge3/lib/python3.11/site-packages (from requests>=2.32.3->pydantic-ai-slim[anthropic,bedrock,cli,cohere,groq,mcp,mistral,openai,vertexai]==0.0.43->pydantic-ai[examples]) (3.4.0)\n",
      "Requirement already satisfied: urllib3<3,>=1.21.1 in /Users/arshath/miniforge3/lib/python3.11/site-packages (from requests>=2.32.3->pydantic-ai-slim[anthropic,bedrock,cli,cohere,groq,mcp,mistral,openai,vertexai]==0.0.43->pydantic-ai[examples]) (2.2.3)\n",
      "Requirement already satisfied: markdown-it-py>=2.2.0 in /Users/arshath/miniforge3/lib/python3.11/site-packages (from rich>=13.9.2->pydantic-ai-examples==0.0.43->pydantic-ai[examples]) (3.0.0)\n",
      "Requirement already satisfied: click>=7.0 in /Users/arshath/miniforge3/lib/python3.11/site-packages (from uvicorn>=0.32.0->pydantic-ai-examples==0.0.43->pydantic-ai[examples]) (8.1.8)\n",
      "Requirement already satisfied: six>=1.12.0 in /Users/arshath/miniforge3/lib/python3.11/site-packages (from asttokens<3.0.0,>=2.0.0->devtools>=0.12.2->pydantic-ai-examples==0.0.43->pydantic-ai[examples]) (1.17.0)\n",
      "Requirement already satisfied: wrapt<2,>=1.10 in /Users/arshath/miniforge3/lib/python3.11/site-packages (from deprecated>=1.2.6->opentelemetry-api>=1.28.0->pydantic-ai-slim==0.0.43->pydantic-ai-slim[anthropic,bedrock,cli,cohere,groq,mcp,mistral,openai,vertexai]==0.0.43->pydantic-ai[examples]) (1.17.2)\n",
      "Requirement already satisfied: filelock in /Users/arshath/miniforge3/lib/python3.11/site-packages (from huggingface-hub>=0.28.1->gradio>=5.9.0->pydantic-ai-examples==0.0.43->pydantic-ai[examples]) (3.16.1)\n",
      "Requirement already satisfied: zipp>=3.20 in /Users/arshath/miniforge3/lib/python3.11/site-packages (from importlib-metadata<=8.5.0,>=6.0->opentelemetry-api>=1.28.0->pydantic-ai-slim==0.0.43->pydantic-ai-slim[anthropic,bedrock,cli,cohere,groq,mcp,mistral,openai,vertexai]==0.0.43->pydantic-ai[examples]) (3.21.0)\n",
      "Requirement already satisfied: mdurl~=0.1 in /Users/arshath/miniforge3/lib/python3.11/site-packages (from markdown-it-py>=2.2.0->rich>=13.9.2->pydantic-ai-examples==0.0.43->pydantic-ai[examples]) (0.1.2)\n",
      "Requirement already satisfied: googleapis-common-protos~=1.52 in /Users/arshath/miniforge3/lib/python3.11/site-packages (from opentelemetry-exporter-otlp-proto-http<1.32.0,>=1.21.0->logfire>=2.6->logfire[asyncpg,fastapi,sqlite3]>=2.6->pydantic-ai-examples==0.0.43->pydantic-ai[examples]) (1.66.0)\n",
      "Requirement already satisfied: opentelemetry-exporter-otlp-proto-common==1.30.0 in /Users/arshath/miniforge3/lib/python3.11/site-packages (from opentelemetry-exporter-otlp-proto-http<1.32.0,>=1.21.0->logfire>=2.6->logfire[asyncpg,fastapi,sqlite3]>=2.6->pydantic-ai-examples==0.0.43->pydantic-ai[examples]) (1.30.0)\n",
      "Requirement already satisfied: opentelemetry-proto==1.30.0 in /Users/arshath/miniforge3/lib/python3.11/site-packages (from opentelemetry-exporter-otlp-proto-http<1.32.0,>=1.21.0->logfire>=2.6->logfire[asyncpg,fastapi,sqlite3]>=2.6->pydantic-ai-examples==0.0.43->pydantic-ai[examples]) (1.30.0)\n",
      "Requirement already satisfied: opentelemetry-semantic-conventions==0.51b0 in /Users/arshath/miniforge3/lib/python3.11/site-packages (from opentelemetry-instrumentation>=0.41b0->logfire>=2.6->logfire[asyncpg,fastapi,sqlite3]>=2.6->pydantic-ai-examples==0.0.43->pydantic-ai[examples]) (0.51b0)\n",
      "Collecting opentelemetry-instrumentation>=0.41b0 (from logfire>=2.6->logfire[asyncpg,fastapi,sqlite3]>=2.6->pydantic-ai-examples==0.0.43->pydantic-ai[examples])\n",
      "  Downloading opentelemetry_instrumentation-0.52b1-py3-none-any.whl.metadata (6.8 kB)\n",
      "INFO: pip is looking at multiple versions of opentelemetry-instrumentation-asyncpg to determine which version is compatible with other requirements. This could take a while.\n",
      "Collecting opentelemetry-instrumentation-asyncpg>=0.42b0 (from logfire[asyncpg,fastapi,sqlite3]>=2.6->pydantic-ai-examples==0.0.43->pydantic-ai[examples])\n",
      "  Downloading opentelemetry_instrumentation_asyncpg-0.52b0-py3-none-any.whl.metadata (2.1 kB)\n",
      "Collecting opentelemetry-instrumentation>=0.41b0 (from logfire>=2.6->logfire[asyncpg,fastapi,sqlite3]>=2.6->pydantic-ai-examples==0.0.43->pydantic-ai[examples])\n",
      "  Downloading opentelemetry_instrumentation-0.52b0-py3-none-any.whl.metadata (6.8 kB)\n",
      "Collecting opentelemetry-instrumentation-asyncpg>=0.42b0 (from logfire[asyncpg,fastapi,sqlite3]>=2.6->pydantic-ai-examples==0.0.43->pydantic-ai[examples])\n",
      "  Downloading opentelemetry_instrumentation_asyncpg-0.51b0-py3-none-any.whl.metadata (2.1 kB)\n",
      "Requirement already satisfied: opentelemetry-instrumentation-asgi==0.51b0 in /Users/arshath/miniforge3/lib/python3.11/site-packages (from opentelemetry-instrumentation-fastapi>=0.42b0->logfire[asyncpg,fastapi,sqlite3]>=2.6->pydantic-ai-examples==0.0.43->pydantic-ai[examples]) (0.51b0)\n",
      "Requirement already satisfied: opentelemetry-util-http==0.51b0 in /Users/arshath/miniforge3/lib/python3.11/site-packages (from opentelemetry-instrumentation-fastapi>=0.42b0->logfire[asyncpg,fastapi,sqlite3]>=2.6->pydantic-ai-examples==0.0.43->pydantic-ai[examples]) (0.51b0)\n",
      "Requirement already satisfied: asgiref~=3.0 in /Users/arshath/miniforge3/lib/python3.11/site-packages (from opentelemetry-instrumentation-asgi==0.51b0->opentelemetry-instrumentation-fastapi>=0.42b0->logfire[asyncpg,fastapi,sqlite3]>=2.6->pydantic-ai-examples==0.0.43->pydantic-ai[examples]) (3.8.1)\n",
      "Collecting opentelemetry-instrumentation-dbapi==0.52b1 (from opentelemetry-instrumentation-sqlite3>=0.42b0->logfire[asyncpg,fastapi,sqlite3]>=2.6->pydantic-ai-examples==0.0.43->pydantic-ai[examples])\n",
      "  Downloading opentelemetry_instrumentation_dbapi-0.52b1-py3-none-any.whl.metadata (2.0 kB)\n",
      "INFO: pip is looking at multiple versions of opentelemetry-instrumentation-sqlite3 to determine which version is compatible with other requirements. This could take a while.\n",
      "Collecting opentelemetry-instrumentation-sqlite3>=0.42b0 (from logfire[asyncpg,fastapi,sqlite3]>=2.6->pydantic-ai-examples==0.0.43->pydantic-ai[examples])\n",
      "  Downloading opentelemetry_instrumentation_sqlite3-0.52b0-py3-none-any.whl.metadata (2.0 kB)\n",
      "Collecting opentelemetry-instrumentation-dbapi==0.52b0 (from opentelemetry-instrumentation-sqlite3>=0.42b0->logfire[asyncpg,fastapi,sqlite3]>=2.6->pydantic-ai-examples==0.0.43->pydantic-ai[examples])\n",
      "  Downloading opentelemetry_instrumentation_dbapi-0.52b0-py3-none-any.whl.metadata (2.0 kB)\n",
      "Collecting opentelemetry-instrumentation-sqlite3>=0.42b0 (from logfire[asyncpg,fastapi,sqlite3]>=2.6->pydantic-ai-examples==0.0.43->pydantic-ai[examples])\n",
      "  Downloading opentelemetry_instrumentation_sqlite3-0.51b0-py3-none-any.whl.metadata (2.0 kB)\n",
      "Collecting opentelemetry-instrumentation-dbapi==0.51b0 (from opentelemetry-instrumentation-sqlite3>=0.42b0->logfire[asyncpg,fastapi,sqlite3]>=2.6->pydantic-ai-examples==0.0.43->pydantic-ai[examples])\n",
      "  Downloading opentelemetry_instrumentation_dbapi-0.51b0-py3-none-any.whl.metadata (2.0 kB)\n",
      "Requirement already satisfied: pytz>=2020.1 in /Users/arshath/miniforge3/lib/python3.11/site-packages (from pandas<3.0,>=1.0->gradio>=5.9.0->pydantic-ai-examples==0.0.43->pydantic-ai[examples]) (2024.2)\n",
      "Requirement already satisfied: tzdata>=2022.7 in /Users/arshath/miniforge3/lib/python3.11/site-packages (from pandas<3.0,>=1.0->gradio>=5.9.0->pydantic-ai-examples==0.0.43->pydantic-ai[examples]) (2024.2)\n",
      "Requirement already satisfied: pyasn1<0.7.0,>=0.4.6 in /Users/arshath/miniforge3/lib/python3.11/site-packages (from pyasn1-modules>=0.2.1->google-auth>=2.36.0->pydantic-ai-slim[anthropic,bedrock,cli,cohere,groq,mcp,mistral,openai,vertexai]==0.0.43->pydantic-ai[examples]) (0.6.1)\n",
      "Requirement already satisfied: shellingham>=1.3.0 in /Users/arshath/miniforge3/lib/python3.11/site-packages (from typer<1.0,>=0.12->gradio>=5.9.0->pydantic-ai-examples==0.0.43->pydantic-ai[examples]) (1.5.4)\n",
      "Downloading pydantic_ai_examples-0.0.43-py3-none-any.whl (27 kB)\n",
      "Downloading asyncpg-0.30.0-cp311-cp311-macosx_11_0_arm64.whl (645 kB)\n",
      "\u001b[2K   \u001b[90m━━━━━━━━━━━━━━━━━━━━━━━━━━━━━━━━━━━━━━━━\u001b[0m \u001b[32m645.9/645.9 kB\u001b[0m \u001b[31m4.6 MB/s\u001b[0m eta \u001b[36m0:00:00\u001b[0m\n",
      "\u001b[?25hDownloading devtools-0.12.2-py3-none-any.whl (19 kB)\n",
      "Downloading gradio-5.22.0-py3-none-any.whl (46.2 MB)\n",
      "\u001b[2K   \u001b[90m━━━━━━━━━━━━━━━━━━━━━━━━━━━━━━━━━━━━━━━━\u001b[0m \u001b[32m46.2/46.2 MB\u001b[0m \u001b[31m3.7 MB/s\u001b[0m eta \u001b[36m0:00:00\u001b[0m00:01\u001b[0m00:01\u001b[0m\n",
      "\u001b[?25hDownloading gradio_client-1.8.0-py3-none-any.whl (322 kB)\n",
      "Downloading logfire-3.9.0-py3-none-any.whl (188 kB)\n",
      "Downloading aiofiles-23.2.1-py3-none-any.whl (15 kB)\n",
      "Downloading asttokens-2.4.1-py2.py3-none-any.whl (27 kB)\n",
      "Downloading groovy-0.1.2-py3-none-any.whl (14 kB)\n",
      "Using cached huggingface_hub-0.29.3-py3-none-any.whl (468 kB)\n",
      "Downloading opentelemetry_instrumentation_asyncpg-0.51b0-py3-none-any.whl (10.0 kB)\n",
      "Downloading opentelemetry_instrumentation_sqlite3-0.51b0-py3-none-any.whl (9.3 kB)\n",
      "Downloading opentelemetry_instrumentation_dbapi-0.51b0-py3-none-any.whl (12 kB)\n",
      "Downloading ruff-0.11.2-py3-none-macosx_11_0_arm64.whl (10.2 MB)\n",
      "\u001b[2K   \u001b[90m━━━━━━━━━━━━━━━━━━━━━━━━━━━━━━━━━━━━━━━━\u001b[0m \u001b[32m10.2/10.2 MB\u001b[0m \u001b[31m5.2 MB/s\u001b[0m eta \u001b[36m0:00:00\u001b[0m \u001b[36m0:00:01\u001b[0m\n",
      "\u001b[?25hDownloading safehttpx-0.1.6-py3-none-any.whl (8.7 kB)\n",
      "Downloading semantic_version-2.10.0-py2.py3-none-any.whl (15 kB)\n",
      "Downloading ffmpy-0.5.0-py3-none-any.whl (6.0 kB)\n",
      "Installing collected packages: semantic-version, ruff, groovy, ffmpy, asyncpg, asttokens, aiofiles, huggingface-hub, devtools, safehttpx, gradio-client, gradio, opentelemetry-instrumentation-dbapi, opentelemetry-instrumentation-asyncpg, opentelemetry-instrumentation-sqlite3, logfire, pydantic-ai-examples\n",
      "  Attempting uninstall: asttokens\n",
      "    Found existing installation: asttokens 3.0.0\n",
      "    Uninstalling asttokens-3.0.0:\n",
      "      Successfully uninstalled asttokens-3.0.0\n",
      "  Attempting uninstall: aiofiles\n",
      "    Found existing installation: aiofiles 24.1.0\n",
      "    Uninstalling aiofiles-24.1.0:\n",
      "      Successfully uninstalled aiofiles-24.1.0\n",
      "  Attempting uninstall: huggingface-hub\n",
      "    Found existing installation: huggingface-hub 0.27.0\n",
      "    Uninstalling huggingface-hub-0.27.0:\n",
      "      Successfully uninstalled huggingface-hub-0.27.0\n",
      "\u001b[31mERROR: pip's dependency resolver does not currently take into account all the packages that are installed. This behaviour is the source of the following dependency conflicts.\n",
      "crawl4ai 0.5.0.post4 requires aiofiles>=24.1.0, but you have aiofiles 23.2.1 which is incompatible.\n",
      "transformers 4.48.0 requires tokenizers<0.22,>=0.21, but you have tokenizers 0.20.3 which is incompatible.\u001b[0m\u001b[31m\n",
      "\u001b[0mSuccessfully installed aiofiles-23.2.1 asttokens-2.4.1 asyncpg-0.30.0 devtools-0.12.2 ffmpy-0.5.0 gradio-5.22.0 gradio-client-1.8.0 groovy-0.1.2 huggingface-hub-0.29.3 logfire-3.9.0 opentelemetry-instrumentation-asyncpg-0.51b0 opentelemetry-instrumentation-dbapi-0.51b0 opentelemetry-instrumentation-sqlite3-0.51b0 pydantic-ai-examples-0.0.43 ruff-0.11.2 safehttpx-0.1.6 semantic-version-2.10.0\n"
     ]
    }
   ],
   "source": [
    "# !pip install \"pydantic-ai[examples]\""
   ]
  },
  {
   "cell_type": "code",
   "execution_count": 4,
   "metadata": {},
   "outputs": [],
   "source": [
    "from dotenv import load_dotenv, find_dotenv\n",
    "load_dotenv(find_dotenv())\n",
    "import os\n",
    "import nest_asyncio\n",
    "nest_asyncio.apply()"
   ]
  },
  {
   "cell_type": "code",
   "execution_count": 5,
   "metadata": {},
   "outputs": [],
   "source": [
    "from pydantic_ai import Agent"
   ]
  },
  {
   "cell_type": "markdown",
   "metadata": {},
   "source": [
    "#### Hello world"
   ]
  },
  {
   "cell_type": "code",
   "execution_count": 6,
   "metadata": {},
   "outputs": [
    {
     "name": "stdout",
     "output_type": "stream",
     "text": [
      "The phrase \"hello, world\" originated from Brian Kernighan's 1972 tutorial \"A Tutorial Introduction to the Language B\".\n",
      "\n"
     ]
    }
   ],
   "source": [
    "agent = Agent(  \n",
    "    'google-gla:gemini-1.5-flash',\n",
    "    system_prompt='Be concise, reply with one sentence.',  \n",
    ")\n",
    "result = agent.run_sync('Where does \"hello world\" come from?')  \n",
    "print(result.data)\n"
   ]
  },
  {
   "cell_type": "markdown",
   "metadata": {},
   "source": [
    "#### Examples"
   ]
  },
  {
   "cell_type": "code",
   "execution_count": 8,
   "metadata": {},
   "outputs": [
    {
     "data": {
      "text/plain": [
       "<logfire._internal.main.Logfire at 0x114e5bed0>"
      ]
     },
     "execution_count": 8,
     "metadata": {},
     "output_type": "execute_result"
    }
   ],
   "source": [
    "from __future__ import annotations as _annotations\n",
    "\n",
    "import asyncio\n",
    "import os\n",
    "from dataclasses import dataclass\n",
    "from typing import Any\n",
    "\n",
    "import logfire\n",
    "from devtools import debug\n",
    "from httpx import AsyncClient\n",
    "\n",
    "from pydantic_ai import Agent, ModelRetry, RunContext\n",
    "\n",
    "# 'if-token-present' means nothing will be sent (and the example will work) if you don't have logfire configured\n",
    "logfire.configure(send_to_logfire='if-token-present')"
   ]
  },
  {
   "cell_type": "code",
   "execution_count": 9,
   "metadata": {},
   "outputs": [],
   "source": [
    "@dataclass\n",
    "class Deps:\n",
    "    client: AsyncClient\n",
    "    weather_api_key: str | None\n",
    "    geo_api_key: str | None"
   ]
  },
  {
   "cell_type": "code",
   "execution_count": 10,
   "metadata": {},
   "outputs": [],
   "source": [
    "weather_agent = Agent(\n",
    "    'openai:gpt-4o',\n",
    "    # 'Be concise, reply with one sentence.' is enough for some models (like openai) to use\n",
    "    # the below tools appropriately, but others like anthropic and gemini require a bit more direction.\n",
    "    system_prompt=(\n",
    "        'Be concise, reply with one sentence.'\n",
    "        'Use the `get_lat_lng` tool to get the latitude and longitude of the locations, '\n",
    "        'then use the `get_weather` tool to get the weather.'\n",
    "    ),\n",
    "    deps_type=Deps,\n",
    "    retries=2,\n",
    "    instrument=True,\n",
    ")\n"
   ]
  },
  {
   "cell_type": "code",
   "execution_count": 11,
   "metadata": {},
   "outputs": [],
   "source": [
    "@weather_agent.tool\n",
    "async def get_lat_lng(\n",
    "    ctx: RunContext[Deps], \n",
    "    location_description: str\n",
    ") -> dict[str, float]:\n",
    "    \"\"\"Get the latitude and longitude of a location.\n",
    "\n",
    "    Args:\n",
    "        ctx: The context.\n",
    "        location_description: A description of a location.\n",
    "    \"\"\"\n",
    "    if ctx.deps.geo_api_key is None:\n",
    "        # if no API key is provided, return a dummy response (London)\n",
    "        return {'lat': 51.1, 'lng': -0.1}\n",
    "\n",
    "    params = {\n",
    "        'q': location_description,\n",
    "        'api_key': ctx.deps.geo_api_key,\n",
    "    }\n",
    "    with logfire.span('calling geocode API', params=params) as span:\n",
    "        r = await ctx.deps.client.get('https://geocode.maps.co/search', params=params)\n",
    "        r.raise_for_status()\n",
    "        data = r.json()\n",
    "        span.set_attribute('response', data)\n",
    "\n",
    "    if data:\n",
    "        return {'lat': data[0]['lat'], 'lng': data[0]['lon']}\n",
    "    else:\n",
    "        raise ModelRetry('Could not find the location')"
   ]
  },
  {
   "cell_type": "code",
   "execution_count": 12,
   "metadata": {},
   "outputs": [],
   "source": [
    "@weather_agent.tool\n",
    "async def get_weather(ctx: RunContext[Deps], lat: float, lng: float) -> dict[str, Any]:\n",
    "    \"\"\"Get the weather at a location.\n",
    "\n",
    "    Args:\n",
    "        ctx: The context.\n",
    "        lat: Latitude of the location.\n",
    "        lng: Longitude of the location.\n",
    "    \"\"\"\n",
    "    if ctx.deps.weather_api_key is None:\n",
    "        # if no API key is provided, return a dummy response\n",
    "        return {'temperature': '21 °C', 'description': 'Sunny'}\n",
    "\n",
    "    params = {\n",
    "        'apikey': ctx.deps.weather_api_key,\n",
    "        'location': f'{lat},{lng}',\n",
    "        'units': 'metric',\n",
    "    }\n",
    "    with logfire.span('calling weather API', params=params) as span:\n",
    "        r = await ctx.deps.client.get(\n",
    "            'https://api.tomorrow.io/v4/weather/realtime', params=params\n",
    "        )\n",
    "        r.raise_for_status()\n",
    "        data = r.json()\n",
    "        span.set_attribute('response', data)\n",
    "\n",
    "    values = data['data']['values']\n",
    "    # https://docs.tomorrow.io/reference/data-layers-weather-codes\n",
    "    code_lookup = {\n",
    "        1000: 'Clear, Sunny',\n",
    "        1100: 'Mostly Clear',\n",
    "        1101: 'Partly Cloudy',\n",
    "        1102: 'Mostly Cloudy',\n",
    "        1001: 'Cloudy',\n",
    "        2000: 'Fog',\n",
    "        2100: 'Light Fog',\n",
    "        4000: 'Drizzle',\n",
    "        4001: 'Rain',\n",
    "        4200: 'Light Rain',\n",
    "        4201: 'Heavy Rain',\n",
    "        5000: 'Snow',\n",
    "        5001: 'Flurries',\n",
    "        5100: 'Light Snow',\n",
    "        5101: 'Heavy Snow',\n",
    "        6000: 'Freezing Drizzle',\n",
    "        6001: 'Freezing Rain',\n",
    "        6200: 'Light Freezing Rain',\n",
    "        6201: 'Heavy Freezing Rain',\n",
    "        7000: 'Ice Pellets',\n",
    "        7101: 'Heavy Ice Pellets',\n",
    "        7102: 'Light Ice Pellets',\n",
    "        8000: 'Thunderstorm',\n",
    "    }\n",
    "    return {\n",
    "        'temperature': f'{values[\"temperatureApparent\"]:0.0f}°C',\n",
    "        'description': code_lookup.get(values['weatherCode'], 'Unknown'),\n",
    "    }"
   ]
  },
  {
   "cell_type": "code",
   "execution_count": 13,
   "metadata": {},
   "outputs": [
    {
     "name": "stdout",
     "output_type": "stream",
     "text": [
      "08:07:25.759 weather_agent run\n",
      "08:07:25.760   preparing model request params\n",
      "08:07:25.760   chat gpt-4o\n",
      "08:07:30.671   running tools: get_lat_lng, get_lat_lng\n",
      "08:07:30.672   preparing model request params\n",
      "08:07:30.673   chat gpt-4o\n",
      "08:07:32.323   running tools: get_weather, get_weather\n",
      "08:07:32.324   preparing model request params\n",
      "08:07:32.325   chat gpt-4o\n"
     ]
    },
    {
     "ename": "ImportError",
     "evalue": "cannot import name 'AstConstant' from 'asttokens.util' (/Users/arshath/miniforge3/lib/python3.11/site-packages/asttokens/util.py)",
     "output_type": "error",
     "traceback": [
      "\u001b[0;31m---------------------------------------------------------------------------\u001b[0m",
      "\u001b[0;31mImportError\u001b[0m                               Traceback (most recent call last)",
      "Cell \u001b[0;32mIn[13], line 12\u001b[0m\n\u001b[1;32m      6\u001b[0m deps \u001b[38;5;241m=\u001b[39m Deps(\n\u001b[1;32m      7\u001b[0m     client\u001b[38;5;241m=\u001b[39mclient, weather_api_key\u001b[38;5;241m=\u001b[39mweather_api_key, geo_api_key\u001b[38;5;241m=\u001b[39mgeo_api_key\n\u001b[1;32m      8\u001b[0m )\n\u001b[1;32m      9\u001b[0m result \u001b[38;5;241m=\u001b[39m \u001b[38;5;28;01mawait\u001b[39;00m weather_agent\u001b[38;5;241m.\u001b[39mrun(\n\u001b[1;32m     10\u001b[0m     \u001b[38;5;124m'\u001b[39m\u001b[38;5;124mWhat is the weather like in London and in Wiltshire?\u001b[39m\u001b[38;5;124m'\u001b[39m, deps\u001b[38;5;241m=\u001b[39mdeps\n\u001b[1;32m     11\u001b[0m )\n\u001b[0;32m---> 12\u001b[0m \u001b[43mdebug\u001b[49m\u001b[43m(\u001b[49m\u001b[43mresult\u001b[49m\u001b[43m)\u001b[49m\n\u001b[1;32m     13\u001b[0m \u001b[38;5;28mprint\u001b[39m(\u001b[38;5;124m'\u001b[39m\u001b[38;5;124mResponse:\u001b[39m\u001b[38;5;124m'\u001b[39m, result\u001b[38;5;241m.\u001b[39mdata)\n",
      "File \u001b[0;32m~/miniforge3/lib/python3.11/site-packages/devtools/debug.py:123\u001b[0m, in \u001b[0;36mDebug.__call__\u001b[0;34m(self, file_, flush_, frame_depth_, *args, **kwargs)\u001b[0m\n\u001b[1;32m    115\u001b[0m \u001b[38;5;28;01mdef\u001b[39;00m \u001b[38;5;21m__call__\u001b[39m(\n\u001b[1;32m    116\u001b[0m     \u001b[38;5;28mself\u001b[39m,\n\u001b[1;32m    117\u001b[0m     \u001b[38;5;241m*\u001b[39margs: \u001b[38;5;124m'\u001b[39m\u001b[38;5;124mAny\u001b[39m\u001b[38;5;124m'\u001b[39m,\n\u001b[0;32m   (...)\u001b[0m\n\u001b[1;32m    121\u001b[0m     \u001b[38;5;241m*\u001b[39m\u001b[38;5;241m*\u001b[39mkwargs: \u001b[38;5;124m'\u001b[39m\u001b[38;5;124mAny\u001b[39m\u001b[38;5;124m'\u001b[39m,\n\u001b[1;32m    122\u001b[0m ) \u001b[38;5;241m-\u001b[39m\u001b[38;5;241m>\u001b[39m \u001b[38;5;124m'\u001b[39m\u001b[38;5;124mAny\u001b[39m\u001b[38;5;124m'\u001b[39m:\n\u001b[0;32m--> 123\u001b[0m     d_out \u001b[38;5;241m=\u001b[39m \u001b[38;5;28;43mself\u001b[39;49m\u001b[38;5;241;43m.\u001b[39;49m\u001b[43m_process\u001b[49m\u001b[43m(\u001b[49m\u001b[43margs\u001b[49m\u001b[43m,\u001b[49m\u001b[43m \u001b[49m\u001b[43mkwargs\u001b[49m\u001b[43m,\u001b[49m\u001b[43m \u001b[49m\u001b[43mframe_depth_\u001b[49m\u001b[43m)\u001b[49m\n\u001b[1;32m    124\u001b[0m     s \u001b[38;5;241m=\u001b[39m d_out\u001b[38;5;241m.\u001b[39mstr(use_highlight(\u001b[38;5;28mself\u001b[39m\u001b[38;5;241m.\u001b[39m_highlight, file_))\n\u001b[1;32m    125\u001b[0m     \u001b[38;5;28mprint\u001b[39m(s, file\u001b[38;5;241m=\u001b[39mfile_, flush\u001b[38;5;241m=\u001b[39mflush_)\n",
      "File \u001b[0;32m~/miniforge3/lib/python3.11/site-packages/devtools/debug.py:191\u001b[0m, in \u001b[0;36mDebug._process\u001b[0;34m(self, args, kwargs, frame_depth)\u001b[0m\n\u001b[1;32m    189\u001b[0m         arguments \u001b[38;5;241m=\u001b[39m \u001b[38;5;28mlist\u001b[39m(\u001b[38;5;28mself\u001b[39m\u001b[38;5;241m.\u001b[39m_args_inspection_failed(args, kwargs))\n\u001b[1;32m    190\u001b[0m     \u001b[38;5;28;01melse\u001b[39;00m:\n\u001b[0;32m--> 191\u001b[0m         arguments \u001b[38;5;241m=\u001b[39m \u001b[38;5;28;43mlist\u001b[39;49m\u001b[43m(\u001b[49m\u001b[38;5;28;43mself\u001b[39;49m\u001b[38;5;241;43m.\u001b[39;49m\u001b[43m_process_args\u001b[49m\u001b[43m(\u001b[49m\u001b[43mex\u001b[49m\u001b[43m,\u001b[49m\u001b[43m \u001b[49m\u001b[43margs\u001b[49m\u001b[43m,\u001b[49m\u001b[43m \u001b[49m\u001b[43mkwargs\u001b[49m\u001b[43m)\u001b[49m\u001b[43m)\u001b[49m\n\u001b[1;32m    193\u001b[0m \u001b[38;5;28;01mreturn\u001b[39;00m \u001b[38;5;28mself\u001b[39m\u001b[38;5;241m.\u001b[39moutput_class(\n\u001b[1;32m    194\u001b[0m     filename\u001b[38;5;241m=\u001b[39m\u001b[38;5;28mstr\u001b[39m(path),\n\u001b[1;32m    195\u001b[0m     lineno\u001b[38;5;241m=\u001b[39mlineno,\n\u001b[0;32m   (...)\u001b[0m\n\u001b[1;32m    198\u001b[0m     warning\u001b[38;5;241m=\u001b[39m\u001b[38;5;28mself\u001b[39m\u001b[38;5;241m.\u001b[39m_show_warnings \u001b[38;5;129;01mand\u001b[39;00m warning,\n\u001b[1;32m    199\u001b[0m )\n",
      "File \u001b[0;32m~/miniforge3/lib/python3.11/site-packages/devtools/debug.py:211\u001b[0m, in \u001b[0;36mDebug._process_args\u001b[0;34m(self, ex, args, kwargs)\u001b[0m\n\u001b[1;32m    208\u001b[0m \u001b[38;5;28;01mimport\u001b[39;00m \u001b[38;5;21;01mast\u001b[39;00m\n\u001b[1;32m    210\u001b[0m func_ast \u001b[38;5;241m=\u001b[39m ex\u001b[38;5;241m.\u001b[39mnode\n\u001b[0;32m--> 211\u001b[0m atok \u001b[38;5;241m=\u001b[39m \u001b[43mex\u001b[49m\u001b[38;5;241;43m.\u001b[39;49m\u001b[43msource\u001b[49m\u001b[38;5;241;43m.\u001b[39;49m\u001b[43masttokens\u001b[49m\u001b[43m(\u001b[49m\u001b[43m)\u001b[49m\n\u001b[1;32m    212\u001b[0m \u001b[38;5;28;01mfor\u001b[39;00m arg, ast_arg \u001b[38;5;129;01min\u001b[39;00m \u001b[38;5;28mzip\u001b[39m(args, func_ast\u001b[38;5;241m.\u001b[39margs):\n\u001b[1;32m    213\u001b[0m     \u001b[38;5;28;01mif\u001b[39;00m \u001b[38;5;28misinstance\u001b[39m(ast_arg, ast\u001b[38;5;241m.\u001b[39mName):\n",
      "File \u001b[0;32m~/miniforge3/lib/python3.11/site-packages/executing/executing.py:347\u001b[0m, in \u001b[0;36mSource.asttokens\u001b[0;34m(self)\u001b[0m\n\u001b[1;32m    345\u001b[0m \u001b[38;5;28;01mif\u001b[39;00m \u001b[38;5;28mself\u001b[39m\u001b[38;5;241m.\u001b[39m_asttokens \u001b[38;5;129;01mis\u001b[39;00m \u001b[38;5;28;01mNone\u001b[39;00m:\n\u001b[1;32m    346\u001b[0m     \u001b[38;5;28;01mif\u001b[39;00m \u001b[38;5;28mhasattr\u001b[39m(asttokens, \u001b[38;5;124m'\u001b[39m\u001b[38;5;124mASTText\u001b[39m\u001b[38;5;124m'\u001b[39m):\n\u001b[0;32m--> 347\u001b[0m         \u001b[38;5;28mself\u001b[39m\u001b[38;5;241m.\u001b[39m_asttokens \u001b[38;5;241m=\u001b[39m \u001b[38;5;28;43mself\u001b[39;49m\u001b[38;5;241;43m.\u001b[39;49m\u001b[43masttext\u001b[49m\u001b[43m(\u001b[49m\u001b[43m)\u001b[49m\u001b[38;5;241;43m.\u001b[39;49m\u001b[43masttokens\u001b[49m\n\u001b[1;32m    348\u001b[0m     \u001b[38;5;28;01melse\u001b[39;00m:  \u001b[38;5;66;03m# pragma: no cover\u001b[39;00m\n\u001b[1;32m    349\u001b[0m         \u001b[38;5;28mself\u001b[39m\u001b[38;5;241m.\u001b[39m_asttokens \u001b[38;5;241m=\u001b[39m asttokens\u001b[38;5;241m.\u001b[39mASTTokens(\u001b[38;5;28mself\u001b[39m\u001b[38;5;241m.\u001b[39mtext, tree\u001b[38;5;241m=\u001b[39m\u001b[38;5;28mself\u001b[39m\u001b[38;5;241m.\u001b[39mtree, filename\u001b[38;5;241m=\u001b[39m\u001b[38;5;28mself\u001b[39m\u001b[38;5;241m.\u001b[39mfilename)\n",
      "File \u001b[0;32m~/miniforge3/lib/python3.11/site-packages/asttokens/asttokens.py:312\u001b[0m, in \u001b[0;36masttokens\u001b[0;34m(self)\u001b[0m\n\u001b[1;32m      0\u001b[0m <Error retrieving source code with stack_data see ipython/ipython#13598>\n",
      "File \u001b[0;32m~/miniforge3/lib/python3.11/site-packages/asttokens/asttokens.py:120\u001b[0m, in \u001b[0;36m__init__\u001b[0;34m(self, source_text, parse, tree, filename, tokens)\u001b[0m\n\u001b[1;32m      0\u001b[0m <Error retrieving source code with stack_data see ipython/ipython#13598>\n",
      "File \u001b[0;32m~/miniforge3/lib/python3.11/site-packages/asttokens/asttokens.py:131\u001b[0m, in \u001b[0;36mmark_tokens\u001b[0;34m(self, root_node)\u001b[0m\n\u001b[1;32m      0\u001b[0m <Error retrieving source code with stack_data see ipython/ipython#13598>\n",
      "File \u001b[0;32m~/miniforge3/lib/python3.11/site-packages/asttokens/mark_tokens.py:26\u001b[0m\n\u001b[1;32m     24\u001b[0m \u001b[38;5;28;01mfrom\u001b[39;00m \u001b[38;5;21;01m.\u001b[39;00m \u001b[38;5;28;01mimport\u001b[39;00m util\n\u001b[1;32m     25\u001b[0m \u001b[38;5;28;01mfrom\u001b[39;00m \u001b[38;5;21;01m.\u001b[39;00m\u001b[38;5;21;01masttokens\u001b[39;00m \u001b[38;5;28;01mimport\u001b[39;00m ASTTokens\n\u001b[0;32m---> 26\u001b[0m \u001b[38;5;28;01mfrom\u001b[39;00m \u001b[38;5;21;01m.\u001b[39;00m\u001b[38;5;21;01mutil\u001b[39;00m \u001b[38;5;28;01mimport\u001b[39;00m AstConstant\n\u001b[1;32m     27\u001b[0m \u001b[38;5;28;01mfrom\u001b[39;00m \u001b[38;5;21;01m.\u001b[39;00m\u001b[38;5;21;01mastroid_compat\u001b[39;00m \u001b[38;5;28;01mimport\u001b[39;00m astroid_node_classes \u001b[38;5;28;01mas\u001b[39;00m nc, BaseContainer \u001b[38;5;28;01mas\u001b[39;00m AstroidBaseContainer\n\u001b[1;32m     29\u001b[0m \u001b[38;5;28;01mif\u001b[39;00m TYPE_CHECKING:\n",
      "\u001b[0;31mImportError\u001b[0m: cannot import name 'AstConstant' from 'asttokens.util' (/Users/arshath/miniforge3/lib/python3.11/site-packages/asttokens/util.py)"
     ]
    }
   ],
   "source": [
    "async with AsyncClient() as client:\n",
    "    # create a free API key at https://www.tomorrow.io/weather-api/\n",
    "    weather_api_key = os.getenv('WEATHER_API_KEY')\n",
    "    # create a free API key at https://geocode.maps.co/\n",
    "    geo_api_key = os.getenv('GEO_API_KEY')\n",
    "    deps = Deps(\n",
    "        client=client, weather_api_key=weather_api_key, geo_api_key=geo_api_key\n",
    "    )\n",
    "    result = await weather_agent.run(\n",
    "        'What is the weather like in London and in Wiltshire?', deps=deps\n",
    "    )\n",
    "    debug(result)\n",
    "    print('Response:', result.data)\n"
   ]
  },
  {
   "cell_type": "markdown",
   "metadata": {},
   "source": [
    "#### Bank support"
   ]
  },
  {
   "cell_type": "code",
   "execution_count": 14,
   "metadata": {},
   "outputs": [],
   "source": [
    "from dataclasses import dataclass\n",
    "\n",
    "from pydantic import BaseModel, Field\n",
    "\n",
    "from pydantic_ai import Agent, RunContext"
   ]
  },
  {
   "cell_type": "code",
   "execution_count": 16,
   "metadata": {},
   "outputs": [],
   "source": [
    "class DatabaseConn:\n",
    "    \"\"\"This is a fake database for example purposes.\n",
    "\n",
    "    In reality, you'd be connecting to an external database\n",
    "    (e.g. PostgreSQL) to get information about customers.\n",
    "    \"\"\"\n",
    "\n",
    "    @classmethod\n",
    "    async def customer_name(cls, *, id: int) -> str | None:\n",
    "        if id == 123:\n",
    "            return 'John'\n",
    "\n",
    "    @classmethod\n",
    "    async def customer_balance(cls, *, id: int, include_pending: bool) -> float:\n",
    "        if id == 123 and include_pending:\n",
    "            return 123.45\n",
    "        else:\n",
    "            raise ValueError('Customer not found')"
   ]
  },
  {
   "cell_type": "code",
   "execution_count": 17,
   "metadata": {},
   "outputs": [],
   "source": [
    "@dataclass\n",
    "class SupportDependencies:\n",
    "    customer_id: int\n",
    "    db: DatabaseConn"
   ]
  },
  {
   "cell_type": "code",
   "execution_count": 18,
   "metadata": {},
   "outputs": [],
   "source": [
    "class SupportResult(BaseModel):\n",
    "    support_advice: str = Field(description='Advice returned to the customer')\n",
    "    block_card: bool = Field(description='Whether to block their card or not')\n",
    "    risk: int = Field(description='Risk level of query', ge=0, le=10)"
   ]
  },
  {
   "cell_type": "code",
   "execution_count": 19,
   "metadata": {},
   "outputs": [],
   "source": [
    "support_agent = Agent(\n",
    "    'openai:gpt-4o',\n",
    "    deps_type=SupportDependencies,\n",
    "    result_type=SupportResult,\n",
    "    system_prompt=(\n",
    "        'You are a support agent in our bank, give the '\n",
    "        'customer support and judge the risk level of their query. '\n",
    "        \"Reply using the customer's name.\"\n",
    "    ),\n",
    ")"
   ]
  },
  {
   "cell_type": "code",
   "execution_count": 20,
   "metadata": {},
   "outputs": [],
   "source": [
    "@support_agent.system_prompt\n",
    "async def add_customer_name(ctx: RunContext[SupportDependencies]) -> str:\n",
    "    customer_name = await ctx.deps.db.customer_name(id=ctx.deps.customer_id)\n",
    "    return f\"The customer's name is {customer_name!r}\""
   ]
  },
  {
   "cell_type": "code",
   "execution_count": 21,
   "metadata": {},
   "outputs": [],
   "source": [
    "@support_agent.tool\n",
    "async def customer_balance(\n",
    "    ctx: RunContext[SupportDependencies], include_pending: bool\n",
    ") -> str:\n",
    "    \"\"\"Returns the customer's current account balance.\"\"\"\n",
    "    balance = await ctx.deps.db.customer_balance(\n",
    "        id=ctx.deps.customer_id,\n",
    "        include_pending=include_pending,\n",
    "    )\n",
    "    return f'${balance:.2f}'"
   ]
  },
  {
   "cell_type": "code",
   "execution_count": 22,
   "metadata": {},
   "outputs": [],
   "source": [
    "deps = SupportDependencies(customer_id=123, db=DatabaseConn())\n",
    "result = support_agent.run_sync('What is my balance?', deps=deps)"
   ]
  },
  {
   "cell_type": "code",
   "execution_count": 23,
   "metadata": {},
   "outputs": [
    {
     "data": {
      "text/plain": [
       "AgentRunResult(data=SupportResult(support_advice='Your current balance, including pending transactions, is $123.45. If you have any specific concerns, feel free to ask for further assistance.', block_card=False, risk=1))"
      ]
     },
     "execution_count": 23,
     "metadata": {},
     "output_type": "execute_result"
    }
   ],
   "source": [
    "result"
   ]
  },
  {
   "cell_type": "code",
   "execution_count": null,
   "metadata": {},
   "outputs": [],
   "source": []
  }
 ],
 "metadata": {
  "kernelspec": {
   "display_name": "base",
   "language": "python",
   "name": "python3"
  },
  "language_info": {
   "codemirror_mode": {
    "name": "ipython",
    "version": 3
   },
   "file_extension": ".py",
   "mimetype": "text/x-python",
   "name": "python",
   "nbconvert_exporter": "python",
   "pygments_lexer": "ipython3",
   "version": "3.11.11"
  }
 },
 "nbformat": 4,
 "nbformat_minor": 2
}
